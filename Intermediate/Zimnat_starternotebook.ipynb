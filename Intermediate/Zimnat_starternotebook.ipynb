{
 "cells": [
  {
   "cell_type": "markdown",
   "metadata": {
    "id": "UTZATqKuzQud"
   },
   "source": [
    "<h2><center> Welcome to the Monthly Insurance Claim Prediction Challenge Starter Notebook</h2></center>\n",
    "<figure>\n",
    "<center><img src =\"https://drive.google.com/uc?export=view&id=18IZFQ9-HParnXoXKSKQQWDWUsamprUk5\" width = \"750\" height = '500'/>\n",
    "\n",
    "*About the problem*\n",
    "> Short-term insurance claims are one of the largest costs in the insurance industry, and are extremely difficult to forecast. Zimnat Insurance wants to predict the value of future claims per client, in order to better forecast annual costs.\n",
    "\n",
    "*The objective of this challenge is*:\n",
    "> To create a machine learning model to predict how much a client will claim from Zimnat per month for a whole year. \n",
    "\n",
    "The solution will aid Zimnat in being better prepared to address claims that are submitted, and improve customer satisfaction by alerting clients to possible claims they will make in the future. \n",
    "\n"
   ]
  },
  {
   "cell_type": "markdown",
   "metadata": {
    "id": "TNwjd3IWlgxc"
   },
   "source": [
    "## Table of contents:\n",
    "\n",
    "1. [Importing libraries](#Libraries)\n",
    "2. [Loading data](#Data)\n",
    "3. [Statistical summaries](#Statistics)\n",
    "4. [Missing values and duplicates](#Missing)\n",
    "5. [Outliers](#Outliers)\n",
    "6. [Dataset datatypes](#Datatypes)\n",
    "7. [Feature engineering](#Engineering)\n",
    "8. [Date features EDA](#Dates)\n",
    "9. [Branch features EDA](#Branch)\n",
    "10. [Categorical features](#Categorical)\n",
    "11. [Preprocess test dataset](#Preprocess)\n",
    "12. [Modelling](#Modelling)\n",
    "13. [Making predictions of the test set and creating a submission file](#Predictions)\n",
    "14. [More Tips](#Tips)"
   ]
  },
  {
   "cell_type": "markdown",
   "metadata": {
    "id": "I8Kdz7a25j4P"
   },
   "source": [
    "<a name=\"Libraries\"></a>\n",
    "## 1. Importing libraries\n"
   ]
  },
  {
   "cell_type": "code",
   "execution_count": 1,
   "metadata": {
    "id": "GJvGrR3AXhny"
   },
   "outputs": [
    {
     "name": "stderr",
     "output_type": "stream",
     "text": [
      "/home/balde/Downloads/AUR/y/lib/python3.9/site-packages/xgboost/compat.py:36: FutureWarning: pandas.Int64Index is deprecated and will be removed from pandas in a future version. Use pandas.Index with the appropriate dtype instead.\n",
      "  from pandas import MultiIndex, Int64Index\n"
     ]
    }
   ],
   "source": [
    "# Import libraries\n",
    "import matplotlib.pyplot as plt\n",
    "import numpy as np\n",
    "import pandas as pd\n",
    "import seaborn as sns\n",
    "from catboost import CatBoostRegressor\n",
    "from lightgbm import LGBMRegressor\n",
    "from sklearn.ensemble import RandomForestRegressor\n",
    "from sklearn.impute import SimpleImputer\n",
    "from sklearn.linear_model import LinearRegression\n",
    "from sklearn.metrics import mean_absolute_error\n",
    "from sklearn.model_selection import train_test_split\n",
    "from sklearn.preprocessing import LabelEncoder, RobustScaler, StandardScaler\n",
    "from xgboost import XGBRegressor\n",
    "\n",
    "random_state=42\n",
    "np.random.seed(random_state)\n",
    "import random\n",
    "\n",
    "random.seed(random_state)\n",
    "\n",
    "pd.options.display.float_format = '{:.5f}'.format\n",
    "\n",
    "%matplotlib inline\n",
    "import warnings\n",
    "\n",
    "warnings.filterwarnings('ignore')"
   ]
  },
  {
   "cell_type": "markdown",
   "metadata": {
    "id": "ro-KRpqn5pbB"
   },
   "source": [
    "<a name=\"Data\"></a>\n",
    "## 2. Loading data"
   ]
  },
  {
   "cell_type": "code",
   "execution_count": 2,
   "metadata": {
    "colab": {
     "base_uri": "https://localhost:8080/",
     "height": 270
    },
    "id": "V54N2h-CXzmI",
    "outputId": "b263d595-a9cf-4b23-a96a-68b9279dfed5"
   },
   "outputs": [
    {
     "data": {
      "text/html": [
       "<div>\n",
       "<style scoped>\n",
       "    .dataframe tbody tr th:only-of-type {\n",
       "        vertical-align: middle;\n",
       "    }\n",
       "\n",
       "    .dataframe tbody tr th {\n",
       "        vertical-align: top;\n",
       "    }\n",
       "\n",
       "    .dataframe thead th {\n",
       "        text-align: right;\n",
       "    }\n",
       "</style>\n",
       "<table border=\"1\" class=\"dataframe\">\n",
       "  <thead>\n",
       "    <tr style=\"text-align: right;\">\n",
       "      <th></th>\n",
       "      <th>claim_id</th>\n",
       "      <th>policy_number</th>\n",
       "      <th>claim_number</th>\n",
       "      <th>sum_insured</th>\n",
       "      <th>product</th>\n",
       "      <th>agent</th>\n",
       "      <th>class_of_business</th>\n",
       "      <th>risk_type</th>\n",
       "      <th>loss_date</th>\n",
       "      <th>client_type</th>\n",
       "      <th>renewal_frequency</th>\n",
       "      <th>primary_cause</th>\n",
       "      <th>secondary_cause</th>\n",
       "      <th>branch</th>\n",
       "      <th>target</th>\n",
       "    </tr>\n",
       "  </thead>\n",
       "  <tbody>\n",
       "    <tr>\n",
       "      <th>0</th>\n",
       "      <td>ID_JZ7QWRHH57RO</td>\n",
       "      <td>pol000009680</td>\n",
       "      <td>claim0011359</td>\n",
       "      <td>300000.00000</td>\n",
       "      <td>prod00027</td>\n",
       "      <td>ag00068</td>\n",
       "      <td>cob00031</td>\n",
       "      <td>rt00006</td>\n",
       "      <td>2021-05-13</td>\n",
       "      <td>ct0003</td>\n",
       "      <td>rf0001</td>\n",
       "      <td>pc0007</td>\n",
       "      <td>sc00022</td>\n",
       "      <td>br00006</td>\n",
       "      <td>82150.00000</td>\n",
       "    </tr>\n",
       "    <tr>\n",
       "      <th>1</th>\n",
       "      <td>ID_KQ5TJMVLJ4EP</td>\n",
       "      <td>pol000006869</td>\n",
       "      <td>claim0005272</td>\n",
       "      <td>16000.00000</td>\n",
       "      <td>prod00005</td>\n",
       "      <td>ag00226</td>\n",
       "      <td>cob00010</td>\n",
       "      <td>rt00032</td>\n",
       "      <td>2018-05-13</td>\n",
       "      <td>ct0003</td>\n",
       "      <td>rf0001</td>\n",
       "      <td>pc0007</td>\n",
       "      <td>sc00023</td>\n",
       "      <td>br00002</td>\n",
       "      <td>3780.24000</td>\n",
       "    </tr>\n",
       "    <tr>\n",
       "      <th>2</th>\n",
       "      <td>ID_NYHI7WJGGIAE</td>\n",
       "      <td>pol000006135</td>\n",
       "      <td>claim0004147</td>\n",
       "      <td>3000.00000</td>\n",
       "      <td>prod00029</td>\n",
       "      <td>ag00037</td>\n",
       "      <td>cob00010</td>\n",
       "      <td>rt00026</td>\n",
       "      <td>2018-08-18</td>\n",
       "      <td>ct0003</td>\n",
       "      <td>rf0001</td>\n",
       "      <td>pc0007</td>\n",
       "      <td>sc00024</td>\n",
       "      <td>br00002</td>\n",
       "      <td>2196.50000</td>\n",
       "    </tr>\n",
       "    <tr>\n",
       "      <th>3</th>\n",
       "      <td>ID_ROMMDCXYUXN5</td>\n",
       "      <td>pol000008991</td>\n",
       "      <td>claim0009962</td>\n",
       "      <td>6000.00000</td>\n",
       "      <td>prod00005</td>\n",
       "      <td>ag00037</td>\n",
       "      <td>cob00009</td>\n",
       "      <td>rt00032</td>\n",
       "      <td>2018-12-20</td>\n",
       "      <td>ct0003</td>\n",
       "      <td>rf0001</td>\n",
       "      <td>pc0007</td>\n",
       "      <td>sc00021</td>\n",
       "      <td>br00001</td>\n",
       "      <td>105.67000</td>\n",
       "    </tr>\n",
       "    <tr>\n",
       "      <th>4</th>\n",
       "      <td>ID_2OTD9NX8L73D</td>\n",
       "      <td>pol000007768</td>\n",
       "      <td>claim0007346</td>\n",
       "      <td>26850.00000</td>\n",
       "      <td>prod00015</td>\n",
       "      <td>ag00226</td>\n",
       "      <td>cob00034</td>\n",
       "      <td>rt00023</td>\n",
       "      <td>2018-11-07</td>\n",
       "      <td>ct0001</td>\n",
       "      <td>rf0001</td>\n",
       "      <td>pc0007</td>\n",
       "      <td>sc00021</td>\n",
       "      <td>br00001</td>\n",
       "      <td>1605.64000</td>\n",
       "    </tr>\n",
       "  </tbody>\n",
       "</table>\n",
       "</div>"
      ],
      "text/plain": [
       "          claim_id policy_number  claim_number  sum_insured    product  \\\n",
       "0  ID_JZ7QWRHH57RO  pol000009680  claim0011359 300000.00000  prod00027   \n",
       "1  ID_KQ5TJMVLJ4EP  pol000006869  claim0005272  16000.00000  prod00005   \n",
       "2  ID_NYHI7WJGGIAE  pol000006135  claim0004147   3000.00000  prod00029   \n",
       "3  ID_ROMMDCXYUXN5  pol000008991  claim0009962   6000.00000  prod00005   \n",
       "4  ID_2OTD9NX8L73D  pol000007768  claim0007346  26850.00000  prod00015   \n",
       "\n",
       "     agent class_of_business risk_type   loss_date client_type  \\\n",
       "0  ag00068          cob00031   rt00006  2021-05-13      ct0003   \n",
       "1  ag00226          cob00010   rt00032  2018-05-13      ct0003   \n",
       "2  ag00037          cob00010   rt00026  2018-08-18      ct0003   \n",
       "3  ag00037          cob00009   rt00032  2018-12-20      ct0003   \n",
       "4  ag00226          cob00034   rt00023  2018-11-07      ct0001   \n",
       "\n",
       "  renewal_frequency primary_cause secondary_cause   branch      target  \n",
       "0            rf0001        pc0007         sc00022  br00006 82150.00000  \n",
       "1            rf0001        pc0007         sc00023  br00002  3780.24000  \n",
       "2            rf0001        pc0007         sc00024  br00002  2196.50000  \n",
       "3            rf0001        pc0007         sc00021  br00001   105.67000  \n",
       "4            rf0001        pc0007         sc00021  br00001  1605.64000  "
      ]
     },
     "execution_count": 2,
     "metadata": {},
     "output_type": "execute_result"
    }
   ],
   "source": [
    "# Load files\n",
    "train = pd.read_csv('train.csv')\n",
    "policies = pd.read_csv('policies.csv')\n",
    "test = pd.read_csv('test.csv')\n",
    "samplesubmission = pd.read_csv('SampleSubmission.csv')\n",
    "\n",
    "# Preview train dataset\n",
    "train.head()"
   ]
  },
  {
   "cell_type": "code",
   "execution_count": 3,
   "metadata": {
    "colab": {
     "base_uri": "https://localhost:8080/",
     "height": 336
    },
    "id": "OZLwxj2aXzkD",
    "outputId": "389ab308-3ffd-415b-843c-a94e9d451611"
   },
   "outputs": [
    {
     "data": {
      "text/html": [
       "<div>\n",
       "<style scoped>\n",
       "    .dataframe tbody tr th:only-of-type {\n",
       "        vertical-align: middle;\n",
       "    }\n",
       "\n",
       "    .dataframe tbody tr th {\n",
       "        vertical-align: top;\n",
       "    }\n",
       "\n",
       "    .dataframe thead th {\n",
       "        text-align: right;\n",
       "    }\n",
       "</style>\n",
       "<table border=\"1\" class=\"dataframe\">\n",
       "  <thead>\n",
       "    <tr style=\"text-align: right;\">\n",
       "      <th></th>\n",
       "      <th>policy_number</th>\n",
       "      <th>product_code</th>\n",
       "      <th>trans_date</th>\n",
       "      <th>from_date</th>\n",
       "      <th>to_date</th>\n",
       "      <th>agent</th>\n",
       "      <th>class_of_business</th>\n",
       "      <th>client_type</th>\n",
       "      <th>renewal_frequency</th>\n",
       "      <th>branch</th>\n",
       "    </tr>\n",
       "  </thead>\n",
       "  <tbody>\n",
       "    <tr>\n",
       "      <th>0</th>\n",
       "      <td>pol000006995</td>\n",
       "      <td>prod00033</td>\n",
       "      <td>2017-07-01 08:24:55.800</td>\n",
       "      <td>2017-07-01 00:00:00.000</td>\n",
       "      <td>2018-07-01 00:00:00.000</td>\n",
       "      <td>ag00005</td>\n",
       "      <td>cob00035</td>\n",
       "      <td>ct0001</td>\n",
       "      <td>rf0002</td>\n",
       "      <td>br00002</td>\n",
       "    </tr>\n",
       "    <tr>\n",
       "      <th>1</th>\n",
       "      <td>pol000009828</td>\n",
       "      <td>prod00005</td>\n",
       "      <td>2017-07-01 09:04:02.217</td>\n",
       "      <td>2017-07-03 00:00:00.000</td>\n",
       "      <td>2017-11-02 00:00:00.000</td>\n",
       "      <td>ag00226</td>\n",
       "      <td>cob00009</td>\n",
       "      <td>ct0003</td>\n",
       "      <td>rf0001</td>\n",
       "      <td>br00006</td>\n",
       "    </tr>\n",
       "    <tr>\n",
       "      <th>2</th>\n",
       "      <td>pol000009828</td>\n",
       "      <td>prod00005</td>\n",
       "      <td>2017-07-01 09:04:02.217</td>\n",
       "      <td>2017-07-03 00:00:00.000</td>\n",
       "      <td>2017-11-02 00:00:00.000</td>\n",
       "      <td>ag00226</td>\n",
       "      <td>cob00031</td>\n",
       "      <td>ct0003</td>\n",
       "      <td>rf0001</td>\n",
       "      <td>br00006</td>\n",
       "    </tr>\n",
       "    <tr>\n",
       "      <th>3</th>\n",
       "      <td>pol000007729</td>\n",
       "      <td>prod00005</td>\n",
       "      <td>2017-07-01 09:36:53.843</td>\n",
       "      <td>2017-07-01 00:00:00.000</td>\n",
       "      <td>2017-10-31 00:00:00.000</td>\n",
       "      <td>ag00005</td>\n",
       "      <td>cob00031</td>\n",
       "      <td>ct0003</td>\n",
       "      <td>rf0001</td>\n",
       "      <td>br00002</td>\n",
       "    </tr>\n",
       "    <tr>\n",
       "      <th>4</th>\n",
       "      <td>pol000007729</td>\n",
       "      <td>prod00005</td>\n",
       "      <td>2017-07-01 09:36:53.843</td>\n",
       "      <td>2017-07-01 00:00:00.000</td>\n",
       "      <td>2017-10-31 00:00:00.000</td>\n",
       "      <td>ag00005</td>\n",
       "      <td>cob00009</td>\n",
       "      <td>ct0003</td>\n",
       "      <td>rf0001</td>\n",
       "      <td>br00002</td>\n",
       "    </tr>\n",
       "  </tbody>\n",
       "</table>\n",
       "</div>"
      ],
      "text/plain": [
       "  policy_number product_code               trans_date  \\\n",
       "0  pol000006995    prod00033  2017-07-01 08:24:55.800   \n",
       "1  pol000009828    prod00005  2017-07-01 09:04:02.217   \n",
       "2  pol000009828    prod00005  2017-07-01 09:04:02.217   \n",
       "3  pol000007729    prod00005  2017-07-01 09:36:53.843   \n",
       "4  pol000007729    prod00005  2017-07-01 09:36:53.843   \n",
       "\n",
       "                 from_date                  to_date    agent  \\\n",
       "0  2017-07-01 00:00:00.000  2018-07-01 00:00:00.000  ag00005   \n",
       "1  2017-07-03 00:00:00.000  2017-11-02 00:00:00.000  ag00226   \n",
       "2  2017-07-03 00:00:00.000  2017-11-02 00:00:00.000  ag00226   \n",
       "3  2017-07-01 00:00:00.000  2017-10-31 00:00:00.000  ag00005   \n",
       "4  2017-07-01 00:00:00.000  2017-10-31 00:00:00.000  ag00005   \n",
       "\n",
       "  class_of_business client_type renewal_frequency   branch  \n",
       "0          cob00035      ct0001            rf0002  br00002  \n",
       "1          cob00009      ct0003            rf0001  br00006  \n",
       "2          cob00031      ct0003            rf0001  br00006  \n",
       "3          cob00031      ct0003            rf0001  br00002  \n",
       "4          cob00009      ct0003            rf0001  br00002  "
      ]
     },
     "execution_count": 3,
     "metadata": {},
     "output_type": "execute_result"
    }
   ],
   "source": [
    "# Preview policies dataset\n",
    "policies.head()"
   ]
  },
  {
   "cell_type": "code",
   "execution_count": 4,
   "metadata": {},
   "outputs": [
    {
     "data": {
      "text/html": [
       "<div>\n",
       "<style scoped>\n",
       "    .dataframe tbody tr th:only-of-type {\n",
       "        vertical-align: middle;\n",
       "    }\n",
       "\n",
       "    .dataframe tbody tr th {\n",
       "        vertical-align: top;\n",
       "    }\n",
       "\n",
       "    .dataframe thead th {\n",
       "        text-align: right;\n",
       "    }\n",
       "</style>\n",
       "<table border=\"1\" class=\"dataframe\">\n",
       "  <thead>\n",
       "    <tr style=\"text-align: right;\">\n",
       "      <th></th>\n",
       "      <th>claim_id</th>\n",
       "      <th>policy_number</th>\n",
       "      <th>claim_number</th>\n",
       "      <th>sum_insured</th>\n",
       "      <th>product</th>\n",
       "      <th>agent</th>\n",
       "      <th>class_of_business</th>\n",
       "      <th>risk_type</th>\n",
       "      <th>loss_date</th>\n",
       "      <th>client_type</th>\n",
       "      <th>renewal_frequency</th>\n",
       "      <th>primary_cause</th>\n",
       "      <th>secondary_cause</th>\n",
       "      <th>branch</th>\n",
       "      <th>target</th>\n",
       "    </tr>\n",
       "  </thead>\n",
       "  <tbody>\n",
       "    <tr>\n",
       "      <th>0</th>\n",
       "      <td>ID_JZ7QWRHH57RO</td>\n",
       "      <td>pol000009680</td>\n",
       "      <td>claim0011359</td>\n",
       "      <td>300000.00000</td>\n",
       "      <td>prod00027</td>\n",
       "      <td>ag00068</td>\n",
       "      <td>cob00031</td>\n",
       "      <td>rt00006</td>\n",
       "      <td>2021-05-13</td>\n",
       "      <td>ct0003</td>\n",
       "      <td>rf0001</td>\n",
       "      <td>pc0007</td>\n",
       "      <td>sc00022</td>\n",
       "      <td>br00006</td>\n",
       "      <td>82150.00000</td>\n",
       "    </tr>\n",
       "    <tr>\n",
       "      <th>1</th>\n",
       "      <td>ID_KQ5TJMVLJ4EP</td>\n",
       "      <td>pol000006869</td>\n",
       "      <td>claim0005272</td>\n",
       "      <td>16000.00000</td>\n",
       "      <td>prod00005</td>\n",
       "      <td>ag00226</td>\n",
       "      <td>cob00010</td>\n",
       "      <td>rt00032</td>\n",
       "      <td>2018-05-13</td>\n",
       "      <td>ct0003</td>\n",
       "      <td>rf0001</td>\n",
       "      <td>pc0007</td>\n",
       "      <td>sc00023</td>\n",
       "      <td>br00002</td>\n",
       "      <td>3780.24000</td>\n",
       "    </tr>\n",
       "    <tr>\n",
       "      <th>2</th>\n",
       "      <td>ID_NYHI7WJGGIAE</td>\n",
       "      <td>pol000006135</td>\n",
       "      <td>claim0004147</td>\n",
       "      <td>3000.00000</td>\n",
       "      <td>prod00029</td>\n",
       "      <td>ag00037</td>\n",
       "      <td>cob00010</td>\n",
       "      <td>rt00026</td>\n",
       "      <td>2018-08-18</td>\n",
       "      <td>ct0003</td>\n",
       "      <td>rf0001</td>\n",
       "      <td>pc0007</td>\n",
       "      <td>sc00024</td>\n",
       "      <td>br00002</td>\n",
       "      <td>2196.50000</td>\n",
       "    </tr>\n",
       "    <tr>\n",
       "      <th>3</th>\n",
       "      <td>ID_ROMMDCXYUXN5</td>\n",
       "      <td>pol000008991</td>\n",
       "      <td>claim0009962</td>\n",
       "      <td>6000.00000</td>\n",
       "      <td>prod00005</td>\n",
       "      <td>ag00037</td>\n",
       "      <td>cob00009</td>\n",
       "      <td>rt00032</td>\n",
       "      <td>2018-12-20</td>\n",
       "      <td>ct0003</td>\n",
       "      <td>rf0001</td>\n",
       "      <td>pc0007</td>\n",
       "      <td>sc00021</td>\n",
       "      <td>br00001</td>\n",
       "      <td>105.67000</td>\n",
       "    </tr>\n",
       "    <tr>\n",
       "      <th>4</th>\n",
       "      <td>ID_2OTD9NX8L73D</td>\n",
       "      <td>pol000007768</td>\n",
       "      <td>claim0007346</td>\n",
       "      <td>26850.00000</td>\n",
       "      <td>prod00015</td>\n",
       "      <td>ag00226</td>\n",
       "      <td>cob00034</td>\n",
       "      <td>rt00023</td>\n",
       "      <td>2018-11-07</td>\n",
       "      <td>ct0001</td>\n",
       "      <td>rf0001</td>\n",
       "      <td>pc0007</td>\n",
       "      <td>sc00021</td>\n",
       "      <td>br00001</td>\n",
       "      <td>1605.64000</td>\n",
       "    </tr>\n",
       "  </tbody>\n",
       "</table>\n",
       "</div>"
      ],
      "text/plain": [
       "          claim_id policy_number  claim_number  sum_insured    product  \\\n",
       "0  ID_JZ7QWRHH57RO  pol000009680  claim0011359 300000.00000  prod00027   \n",
       "1  ID_KQ5TJMVLJ4EP  pol000006869  claim0005272  16000.00000  prod00005   \n",
       "2  ID_NYHI7WJGGIAE  pol000006135  claim0004147   3000.00000  prod00029   \n",
       "3  ID_ROMMDCXYUXN5  pol000008991  claim0009962   6000.00000  prod00005   \n",
       "4  ID_2OTD9NX8L73D  pol000007768  claim0007346  26850.00000  prod00015   \n",
       "\n",
       "     agent class_of_business risk_type   loss_date client_type  \\\n",
       "0  ag00068          cob00031   rt00006  2021-05-13      ct0003   \n",
       "1  ag00226          cob00010   rt00032  2018-05-13      ct0003   \n",
       "2  ag00037          cob00010   rt00026  2018-08-18      ct0003   \n",
       "3  ag00037          cob00009   rt00032  2018-12-20      ct0003   \n",
       "4  ag00226          cob00034   rt00023  2018-11-07      ct0001   \n",
       "\n",
       "  renewal_frequency primary_cause secondary_cause   branch      target  \n",
       "0            rf0001        pc0007         sc00022  br00006 82150.00000  \n",
       "1            rf0001        pc0007         sc00023  br00002  3780.24000  \n",
       "2            rf0001        pc0007         sc00024  br00002  2196.50000  \n",
       "3            rf0001        pc0007         sc00021  br00001   105.67000  \n",
       "4            rf0001        pc0007         sc00021  br00001  1605.64000  "
      ]
     },
     "execution_count": 4,
     "metadata": {},
     "output_type": "execute_result"
    }
   ],
   "source": [
    "train.head()"
   ]
  },
  {
   "cell_type": "code",
   "execution_count": 5,
   "metadata": {
    "colab": {
     "base_uri": "https://localhost:8080/",
     "height": 270
    },
    "id": "SPMVj-JXXzh-",
    "outputId": "362af015-733b-4822-f675-82f6f7ae6bf5"
   },
   "outputs": [
    {
     "data": {
      "text/html": [
       "<div>\n",
       "<style scoped>\n",
       "    .dataframe tbody tr th:only-of-type {\n",
       "        vertical-align: middle;\n",
       "    }\n",
       "\n",
       "    .dataframe tbody tr th {\n",
       "        vertical-align: top;\n",
       "    }\n",
       "\n",
       "    .dataframe thead th {\n",
       "        text-align: right;\n",
       "    }\n",
       "</style>\n",
       "<table border=\"1\" class=\"dataframe\">\n",
       "  <thead>\n",
       "    <tr style=\"text-align: right;\">\n",
       "      <th></th>\n",
       "      <th>claim_id</th>\n",
       "      <th>policy_number</th>\n",
       "      <th>claim_number</th>\n",
       "      <th>sum_insured</th>\n",
       "      <th>product</th>\n",
       "      <th>agent</th>\n",
       "      <th>class_of_business</th>\n",
       "      <th>risk_type</th>\n",
       "      <th>loss_date</th>\n",
       "      <th>client_type</th>\n",
       "      <th>renewal_frequency</th>\n",
       "      <th>primary_cause</th>\n",
       "      <th>secondary_cause</th>\n",
       "      <th>branch</th>\n",
       "    </tr>\n",
       "  </thead>\n",
       "  <tbody>\n",
       "    <tr>\n",
       "      <th>2295</th>\n",
       "      <td>ID_P5NOTORLH3B1</td>\n",
       "      <td>pol000009298</td>\n",
       "      <td>claim0010336</td>\n",
       "      <td>0.00000</td>\n",
       "      <td>prod00028</td>\n",
       "      <td>ag00226</td>\n",
       "      <td>cob00009</td>\n",
       "      <td>rt00033</td>\n",
       "      <td>2018-12-22</td>\n",
       "      <td>ct0003</td>\n",
       "      <td>rf0001</td>\n",
       "      <td>pc0007</td>\n",
       "      <td>sc00023</td>\n",
       "      <td>br00001</td>\n",
       "    </tr>\n",
       "    <tr>\n",
       "      <th>1204</th>\n",
       "      <td>ID_IDXOZKICXRO0</td>\n",
       "      <td>pol000008106</td>\n",
       "      <td>claim0008787</td>\n",
       "      <td>5000.00000</td>\n",
       "      <td>prod00005</td>\n",
       "      <td>ag00226</td>\n",
       "      <td>cob00009</td>\n",
       "      <td>rt00032</td>\n",
       "      <td>2019-05-20</td>\n",
       "      <td>ct0003</td>\n",
       "      <td>rf0002</td>\n",
       "      <td>pc0007</td>\n",
       "      <td>sc00023</td>\n",
       "      <td>br00001</td>\n",
       "    </tr>\n",
       "    <tr>\n",
       "      <th>3644</th>\n",
       "      <td>ID_Q4E9NX13TA12</td>\n",
       "      <td>NaN</td>\n",
       "      <td>claim0000341</td>\n",
       "      <td>30000.00000</td>\n",
       "      <td>prod00027</td>\n",
       "      <td>ag00226</td>\n",
       "      <td>cob00031</td>\n",
       "      <td>rt00006</td>\n",
       "      <td>2019-05-25</td>\n",
       "      <td>ct0003</td>\n",
       "      <td>rf0002</td>\n",
       "      <td>pc0007</td>\n",
       "      <td>sc00023</td>\n",
       "      <td>br00002</td>\n",
       "    </tr>\n",
       "    <tr>\n",
       "      <th>1953</th>\n",
       "      <td>ID_25PGEUFBRSQ6</td>\n",
       "      <td>pol000005926</td>\n",
       "      <td>claim0002154</td>\n",
       "      <td>0.00000</td>\n",
       "      <td>prod00015</td>\n",
       "      <td>ag00037</td>\n",
       "      <td>cob00022</td>\n",
       "      <td>rt00025</td>\n",
       "      <td>2018-02-19</td>\n",
       "      <td>ct0001</td>\n",
       "      <td>rf0002</td>\n",
       "      <td>pc0007</td>\n",
       "      <td>sc00023</td>\n",
       "      <td>br00002</td>\n",
       "    </tr>\n",
       "    <tr>\n",
       "      <th>1226</th>\n",
       "      <td>ID_H2RZUBAMGQL8</td>\n",
       "      <td>pol000010819</td>\n",
       "      <td>claim0013207</td>\n",
       "      <td>0.00000</td>\n",
       "      <td>prod00028</td>\n",
       "      <td>ag00044</td>\n",
       "      <td>cob00009</td>\n",
       "      <td>rt00033</td>\n",
       "      <td>2019-07-09</td>\n",
       "      <td>ct0003</td>\n",
       "      <td>rf0002</td>\n",
       "      <td>pc0007</td>\n",
       "      <td>sc00023</td>\n",
       "      <td>br00009</td>\n",
       "    </tr>\n",
       "  </tbody>\n",
       "</table>\n",
       "</div>"
      ],
      "text/plain": [
       "             claim_id policy_number  claim_number  sum_insured    product  \\\n",
       "2295  ID_P5NOTORLH3B1  pol000009298  claim0010336      0.00000  prod00028   \n",
       "1204  ID_IDXOZKICXRO0  pol000008106  claim0008787   5000.00000  prod00005   \n",
       "3644  ID_Q4E9NX13TA12           NaN  claim0000341  30000.00000  prod00027   \n",
       "1953  ID_25PGEUFBRSQ6  pol000005926  claim0002154      0.00000  prod00015   \n",
       "1226  ID_H2RZUBAMGQL8  pol000010819  claim0013207      0.00000  prod00028   \n",
       "\n",
       "        agent class_of_business risk_type   loss_date client_type  \\\n",
       "2295  ag00226          cob00009   rt00033  2018-12-22      ct0003   \n",
       "1204  ag00226          cob00009   rt00032  2019-05-20      ct0003   \n",
       "3644  ag00226          cob00031   rt00006  2019-05-25      ct0003   \n",
       "1953  ag00037          cob00022   rt00025  2018-02-19      ct0001   \n",
       "1226  ag00044          cob00009   rt00033  2019-07-09      ct0003   \n",
       "\n",
       "     renewal_frequency primary_cause secondary_cause   branch  \n",
       "2295            rf0001        pc0007         sc00023  br00001  \n",
       "1204            rf0002        pc0007         sc00023  br00001  \n",
       "3644            rf0002        pc0007         sc00023  br00002  \n",
       "1953            rf0002        pc0007         sc00023  br00002  \n",
       "1226            rf0002        pc0007         sc00023  br00009  "
      ]
     },
     "execution_count": 5,
     "metadata": {},
     "output_type": "execute_result"
    }
   ],
   "source": [
    "# Preview test dataset\n",
    "test.sample(5)"
   ]
  },
  {
   "cell_type": "code",
   "execution_count": 6,
   "metadata": {},
   "outputs": [
    {
     "data": {
      "text/plain": [
       "pol000006026    115\n",
       "pol000007844     54\n",
       "pol000010207     47\n",
       "pol000007723     44\n",
       "pol000005951     44\n",
       "               ... \n",
       "pol000008210      1\n",
       "pol000008653      1\n",
       "pol000006743      1\n",
       "pol000005714      1\n",
       "pol000009493      1\n",
       "Name: policy_number, Length: 2136, dtype: int64"
      ]
     },
     "execution_count": 6,
     "metadata": {},
     "output_type": "execute_result"
    }
   ],
   "source": [
    "test['policy_number'].value_counts()"
   ]
  },
  {
   "cell_type": "code",
   "execution_count": 7,
   "metadata": {
    "colab": {
     "base_uri": "https://localhost:8080/",
     "height": 206
    },
    "id": "V08kByzvZcmU",
    "outputId": "024ae46d-d440-4c17-d680-41bdf8ea0117"
   },
   "outputs": [
    {
     "data": {
      "text/html": [
       "<div>\n",
       "<style scoped>\n",
       "    .dataframe tbody tr th:only-of-type {\n",
       "        vertical-align: middle;\n",
       "    }\n",
       "\n",
       "    .dataframe tbody tr th {\n",
       "        vertical-align: top;\n",
       "    }\n",
       "\n",
       "    .dataframe thead th {\n",
       "        text-align: right;\n",
       "    }\n",
       "</style>\n",
       "<table border=\"1\" class=\"dataframe\">\n",
       "  <thead>\n",
       "    <tr style=\"text-align: right;\">\n",
       "      <th></th>\n",
       "      <th>claim_id</th>\n",
       "      <th>target</th>\n",
       "    </tr>\n",
       "  </thead>\n",
       "  <tbody>\n",
       "    <tr>\n",
       "      <th>0</th>\n",
       "      <td>ID_4RO0KZI9BBW2</td>\n",
       "      <td>0</td>\n",
       "    </tr>\n",
       "    <tr>\n",
       "      <th>1</th>\n",
       "      <td>ID_GTE9ZUJ9GZ97</td>\n",
       "      <td>0</td>\n",
       "    </tr>\n",
       "    <tr>\n",
       "      <th>2</th>\n",
       "      <td>ID_RUVIYRKWZ4RG</td>\n",
       "      <td>0</td>\n",
       "    </tr>\n",
       "    <tr>\n",
       "      <th>3</th>\n",
       "      <td>ID_J81X8SWU6JYN</td>\n",
       "      <td>0</td>\n",
       "    </tr>\n",
       "    <tr>\n",
       "      <th>4</th>\n",
       "      <td>ID_94NM3JJAWWOQ</td>\n",
       "      <td>0</td>\n",
       "    </tr>\n",
       "  </tbody>\n",
       "</table>\n",
       "</div>"
      ],
      "text/plain": [
       "          claim_id  target\n",
       "0  ID_4RO0KZI9BBW2       0\n",
       "1  ID_GTE9ZUJ9GZ97       0\n",
       "2  ID_RUVIYRKWZ4RG       0\n",
       "3  ID_J81X8SWU6JYN       0\n",
       "4  ID_94NM3JJAWWOQ       0"
      ]
     },
     "execution_count": 7,
     "metadata": {},
     "output_type": "execute_result"
    }
   ],
   "source": [
    "# Preview sample submission file\n",
    "samplesubmission.head()"
   ]
  },
  {
   "cell_type": "code",
   "execution_count": 8,
   "metadata": {
    "colab": {
     "base_uri": "https://localhost:8080/"
    },
    "id": "kdoDJBvdXzf4",
    "outputId": "d0800177-b80d-41ec-f6b8-c8de4da53432"
   },
   "outputs": [
    {
     "data": {
      "text/plain": [
       "((9376, 15), (30371, 10), (4019, 14), (4019, 2))"
      ]
     },
     "execution_count": 8,
     "metadata": {},
     "output_type": "execute_result"
    }
   ],
   "source": [
    "# Check size and shape of datasets\n",
    "train.shape, policies.shape, test.shape, samplesubmission.shape"
   ]
  },
  {
   "cell_type": "markdown",
   "metadata": {
    "id": "KNtwMcKjZk9x"
   },
   "source": [
    "<a name=\"Statistics\"></a>\n",
    "## 3. Statistical summaries"
   ]
  },
  {
   "cell_type": "code",
   "execution_count": 9,
   "metadata": {
    "colab": {
     "base_uri": "https://localhost:8080/",
     "height": 457
    },
    "id": "S4NqRM3yXzeE",
    "outputId": "5cdd67af-b97e-4bb5-f02d-216fd53b82f1"
   },
   "outputs": [
    {
     "data": {
      "text/html": [
       "<div>\n",
       "<style scoped>\n",
       "    .dataframe tbody tr th:only-of-type {\n",
       "        vertical-align: middle;\n",
       "    }\n",
       "\n",
       "    .dataframe tbody tr th {\n",
       "        vertical-align: top;\n",
       "    }\n",
       "\n",
       "    .dataframe thead th {\n",
       "        text-align: right;\n",
       "    }\n",
       "</style>\n",
       "<table border=\"1\" class=\"dataframe\">\n",
       "  <thead>\n",
       "    <tr style=\"text-align: right;\">\n",
       "      <th></th>\n",
       "      <th>claim_id</th>\n",
       "      <th>policy_number</th>\n",
       "      <th>claim_number</th>\n",
       "      <th>sum_insured</th>\n",
       "      <th>product</th>\n",
       "      <th>agent</th>\n",
       "      <th>class_of_business</th>\n",
       "      <th>risk_type</th>\n",
       "      <th>loss_date</th>\n",
       "      <th>client_type</th>\n",
       "      <th>renewal_frequency</th>\n",
       "      <th>primary_cause</th>\n",
       "      <th>secondary_cause</th>\n",
       "      <th>branch</th>\n",
       "      <th>target</th>\n",
       "    </tr>\n",
       "  </thead>\n",
       "  <tbody>\n",
       "    <tr>\n",
       "      <th>count</th>\n",
       "      <td>9376</td>\n",
       "      <td>9290</td>\n",
       "      <td>9376</td>\n",
       "      <td>9376.00000</td>\n",
       "      <td>9376</td>\n",
       "      <td>9376</td>\n",
       "      <td>9376</td>\n",
       "      <td>9376</td>\n",
       "      <td>9376</td>\n",
       "      <td>9376</td>\n",
       "      <td>9376</td>\n",
       "      <td>9376</td>\n",
       "      <td>9376</td>\n",
       "      <td>9376</td>\n",
       "      <td>9376.00000</td>\n",
       "    </tr>\n",
       "    <tr>\n",
       "      <th>unique</th>\n",
       "      <td>9376</td>\n",
       "      <td>4076</td>\n",
       "      <td>9167</td>\n",
       "      <td>NaN</td>\n",
       "      <td>37</td>\n",
       "      <td>8</td>\n",
       "      <td>37</td>\n",
       "      <td>50</td>\n",
       "      <td>1359</td>\n",
       "      <td>3</td>\n",
       "      <td>5</td>\n",
       "      <td>21</td>\n",
       "      <td>74</td>\n",
       "      <td>11</td>\n",
       "      <td>NaN</td>\n",
       "    </tr>\n",
       "    <tr>\n",
       "      <th>top</th>\n",
       "      <td>ID_JZ7QWRHH57RO</td>\n",
       "      <td>pol000006026</td>\n",
       "      <td>claim0001351</td>\n",
       "      <td>NaN</td>\n",
       "      <td>prod00015</td>\n",
       "      <td>ag00037</td>\n",
       "      <td>cob00034</td>\n",
       "      <td>rt00023</td>\n",
       "      <td>2019-08-20</td>\n",
       "      <td>ct0001</td>\n",
       "      <td>rf0002</td>\n",
       "      <td>pc0007</td>\n",
       "      <td>sc00023</td>\n",
       "      <td>br00002</td>\n",
       "      <td>NaN</td>\n",
       "    </tr>\n",
       "    <tr>\n",
       "      <th>freq</th>\n",
       "      <td>1</td>\n",
       "      <td>254</td>\n",
       "      <td>3</td>\n",
       "      <td>NaN</td>\n",
       "      <td>4411</td>\n",
       "      <td>3114</td>\n",
       "      <td>3608</td>\n",
       "      <td>3771</td>\n",
       "      <td>83</td>\n",
       "      <td>6096</td>\n",
       "      <td>4853</td>\n",
       "      <td>7396</td>\n",
       "      <td>2980</td>\n",
       "      <td>3900</td>\n",
       "      <td>NaN</td>\n",
       "    </tr>\n",
       "    <tr>\n",
       "      <th>mean</th>\n",
       "      <td>NaN</td>\n",
       "      <td>NaN</td>\n",
       "      <td>NaN</td>\n",
       "      <td>8534789.61723</td>\n",
       "      <td>NaN</td>\n",
       "      <td>NaN</td>\n",
       "      <td>NaN</td>\n",
       "      <td>NaN</td>\n",
       "      <td>NaN</td>\n",
       "      <td>NaN</td>\n",
       "      <td>NaN</td>\n",
       "      <td>NaN</td>\n",
       "      <td>NaN</td>\n",
       "      <td>NaN</td>\n",
       "      <td>41464.71125</td>\n",
       "    </tr>\n",
       "    <tr>\n",
       "      <th>std</th>\n",
       "      <td>NaN</td>\n",
       "      <td>NaN</td>\n",
       "      <td>NaN</td>\n",
       "      <td>112556487.28996</td>\n",
       "      <td>NaN</td>\n",
       "      <td>NaN</td>\n",
       "      <td>NaN</td>\n",
       "      <td>NaN</td>\n",
       "      <td>NaN</td>\n",
       "      <td>NaN</td>\n",
       "      <td>NaN</td>\n",
       "      <td>NaN</td>\n",
       "      <td>NaN</td>\n",
       "      <td>NaN</td>\n",
       "      <td>208434.71755</td>\n",
       "    </tr>\n",
       "    <tr>\n",
       "      <th>min</th>\n",
       "      <td>NaN</td>\n",
       "      <td>NaN</td>\n",
       "      <td>NaN</td>\n",
       "      <td>0.00000</td>\n",
       "      <td>NaN</td>\n",
       "      <td>NaN</td>\n",
       "      <td>NaN</td>\n",
       "      <td>NaN</td>\n",
       "      <td>NaN</td>\n",
       "      <td>NaN</td>\n",
       "      <td>NaN</td>\n",
       "      <td>NaN</td>\n",
       "      <td>NaN</td>\n",
       "      <td>NaN</td>\n",
       "      <td>0.00000</td>\n",
       "    </tr>\n",
       "    <tr>\n",
       "      <th>25%</th>\n",
       "      <td>NaN</td>\n",
       "      <td>NaN</td>\n",
       "      <td>NaN</td>\n",
       "      <td>6500.00000</td>\n",
       "      <td>NaN</td>\n",
       "      <td>NaN</td>\n",
       "      <td>NaN</td>\n",
       "      <td>NaN</td>\n",
       "      <td>NaN</td>\n",
       "      <td>NaN</td>\n",
       "      <td>NaN</td>\n",
       "      <td>NaN</td>\n",
       "      <td>NaN</td>\n",
       "      <td>NaN</td>\n",
       "      <td>287.92500</td>\n",
       "    </tr>\n",
       "    <tr>\n",
       "      <th>50%</th>\n",
       "      <td>NaN</td>\n",
       "      <td>NaN</td>\n",
       "      <td>NaN</td>\n",
       "      <td>50542.00000</td>\n",
       "      <td>NaN</td>\n",
       "      <td>NaN</td>\n",
       "      <td>NaN</td>\n",
       "      <td>NaN</td>\n",
       "      <td>NaN</td>\n",
       "      <td>NaN</td>\n",
       "      <td>NaN</td>\n",
       "      <td>NaN</td>\n",
       "      <td>NaN</td>\n",
       "      <td>NaN</td>\n",
       "      <td>1956.92500</td>\n",
       "    </tr>\n",
       "    <tr>\n",
       "      <th>75%</th>\n",
       "      <td>NaN</td>\n",
       "      <td>NaN</td>\n",
       "      <td>NaN</td>\n",
       "      <td>420000.00000</td>\n",
       "      <td>NaN</td>\n",
       "      <td>NaN</td>\n",
       "      <td>NaN</td>\n",
       "      <td>NaN</td>\n",
       "      <td>NaN</td>\n",
       "      <td>NaN</td>\n",
       "      <td>NaN</td>\n",
       "      <td>NaN</td>\n",
       "      <td>NaN</td>\n",
       "      <td>NaN</td>\n",
       "      <td>12700.64250</td>\n",
       "    </tr>\n",
       "    <tr>\n",
       "      <th>max</th>\n",
       "      <td>NaN</td>\n",
       "      <td>NaN</td>\n",
       "      <td>NaN</td>\n",
       "      <td>5211867675.00000</td>\n",
       "      <td>NaN</td>\n",
       "      <td>NaN</td>\n",
       "      <td>NaN</td>\n",
       "      <td>NaN</td>\n",
       "      <td>NaN</td>\n",
       "      <td>NaN</td>\n",
       "      <td>NaN</td>\n",
       "      <td>NaN</td>\n",
       "      <td>NaN</td>\n",
       "      <td>NaN</td>\n",
       "      <td>7868590.62000</td>\n",
       "    </tr>\n",
       "  </tbody>\n",
       "</table>\n",
       "</div>"
      ],
      "text/plain": [
       "               claim_id policy_number  claim_number      sum_insured  \\\n",
       "count              9376          9290          9376       9376.00000   \n",
       "unique             9376          4076          9167              NaN   \n",
       "top     ID_JZ7QWRHH57RO  pol000006026  claim0001351              NaN   \n",
       "freq                  1           254             3              NaN   \n",
       "mean                NaN           NaN           NaN    8534789.61723   \n",
       "std                 NaN           NaN           NaN  112556487.28996   \n",
       "min                 NaN           NaN           NaN          0.00000   \n",
       "25%                 NaN           NaN           NaN       6500.00000   \n",
       "50%                 NaN           NaN           NaN      50542.00000   \n",
       "75%                 NaN           NaN           NaN     420000.00000   \n",
       "max                 NaN           NaN           NaN 5211867675.00000   \n",
       "\n",
       "          product    agent class_of_business risk_type   loss_date  \\\n",
       "count        9376     9376              9376      9376        9376   \n",
       "unique         37        8                37        50        1359   \n",
       "top     prod00015  ag00037          cob00034   rt00023  2019-08-20   \n",
       "freq         4411     3114              3608      3771          83   \n",
       "mean          NaN      NaN               NaN       NaN         NaN   \n",
       "std           NaN      NaN               NaN       NaN         NaN   \n",
       "min           NaN      NaN               NaN       NaN         NaN   \n",
       "25%           NaN      NaN               NaN       NaN         NaN   \n",
       "50%           NaN      NaN               NaN       NaN         NaN   \n",
       "75%           NaN      NaN               NaN       NaN         NaN   \n",
       "max           NaN      NaN               NaN       NaN         NaN   \n",
       "\n",
       "       client_type renewal_frequency primary_cause secondary_cause   branch  \\\n",
       "count         9376              9376          9376            9376     9376   \n",
       "unique           3                 5            21              74       11   \n",
       "top         ct0001            rf0002        pc0007         sc00023  br00002   \n",
       "freq          6096              4853          7396            2980     3900   \n",
       "mean           NaN               NaN           NaN             NaN      NaN   \n",
       "std            NaN               NaN           NaN             NaN      NaN   \n",
       "min            NaN               NaN           NaN             NaN      NaN   \n",
       "25%            NaN               NaN           NaN             NaN      NaN   \n",
       "50%            NaN               NaN           NaN             NaN      NaN   \n",
       "75%            NaN               NaN           NaN             NaN      NaN   \n",
       "max            NaN               NaN           NaN             NaN      NaN   \n",
       "\n",
       "              target  \n",
       "count     9376.00000  \n",
       "unique           NaN  \n",
       "top              NaN  \n",
       "freq             NaN  \n",
       "mean     41464.71125  \n",
       "std     208434.71755  \n",
       "min          0.00000  \n",
       "25%        287.92500  \n",
       "50%       1956.92500  \n",
       "75%      12700.64250  \n",
       "max    7868590.62000  "
      ]
     },
     "execution_count": 9,
     "metadata": {},
     "output_type": "execute_result"
    }
   ],
   "source": [
    "# Train statistical summary\n",
    "train.describe(include = 'all')"
   ]
  },
  {
   "cell_type": "markdown",
   "metadata": {
    "id": "2kESZ-qvnSEa"
   },
   "source": [
    "From the above statistical summary, we can deduce some of the following insights:\n",
    " - The minimum amount claimed is 0 and the maximum is 7868590.62000\n",
    " - There are 11 different branches\n",
    " - Majority of the training features are categorical in nature"
   ]
  },
  {
   "cell_type": "code",
   "execution_count": 10,
   "metadata": {
    "colab": {
     "base_uri": "https://localhost:8080/",
     "height": 236
    },
    "id": "FyRv50kqXzbN",
    "outputId": "c64777ec-d682-4f9a-e7fc-f52e3f5275a1"
   },
   "outputs": [
    {
     "data": {
      "text/html": [
       "<div>\n",
       "<style scoped>\n",
       "    .dataframe tbody tr th:only-of-type {\n",
       "        vertical-align: middle;\n",
       "    }\n",
       "\n",
       "    .dataframe tbody tr th {\n",
       "        vertical-align: top;\n",
       "    }\n",
       "\n",
       "    .dataframe thead th {\n",
       "        text-align: right;\n",
       "    }\n",
       "</style>\n",
       "<table border=\"1\" class=\"dataframe\">\n",
       "  <thead>\n",
       "    <tr style=\"text-align: right;\">\n",
       "      <th></th>\n",
       "      <th>policy_number</th>\n",
       "      <th>product_code</th>\n",
       "      <th>trans_date</th>\n",
       "      <th>from_date</th>\n",
       "      <th>to_date</th>\n",
       "      <th>agent</th>\n",
       "      <th>class_of_business</th>\n",
       "      <th>client_type</th>\n",
       "      <th>renewal_frequency</th>\n",
       "      <th>branch</th>\n",
       "    </tr>\n",
       "  </thead>\n",
       "  <tbody>\n",
       "    <tr>\n",
       "      <th>count</th>\n",
       "      <td>30371</td>\n",
       "      <td>30371</td>\n",
       "      <td>30371</td>\n",
       "      <td>30371</td>\n",
       "      <td>30371</td>\n",
       "      <td>30371</td>\n",
       "      <td>30325</td>\n",
       "      <td>30371</td>\n",
       "      <td>30371</td>\n",
       "      <td>30371</td>\n",
       "    </tr>\n",
       "    <tr>\n",
       "      <th>unique</th>\n",
       "      <td>5217</td>\n",
       "      <td>37</td>\n",
       "      <td>20836</td>\n",
       "      <td>1431</td>\n",
       "      <td>1369</td>\n",
       "      <td>223</td>\n",
       "      <td>37</td>\n",
       "      <td>3</td>\n",
       "      <td>5</td>\n",
       "      <td>11</td>\n",
       "    </tr>\n",
       "    <tr>\n",
       "      <th>top</th>\n",
       "      <td>pol000005951</td>\n",
       "      <td>prod00005</td>\n",
       "      <td>2020-07-01 08:45:55.653</td>\n",
       "      <td>2018-02-01 00:00:00.000</td>\n",
       "      <td>2019-01-31 00:00:00.000</td>\n",
       "      <td>ag00226</td>\n",
       "      <td>cob00031</td>\n",
       "      <td>ct0001</td>\n",
       "      <td>rf0001</td>\n",
       "      <td>br00002</td>\n",
       "    </tr>\n",
       "    <tr>\n",
       "      <th>freq</th>\n",
       "      <td>174</td>\n",
       "      <td>9994</td>\n",
       "      <td>14</td>\n",
       "      <td>1122</td>\n",
       "      <td>1463</td>\n",
       "      <td>4620</td>\n",
       "      <td>7755</td>\n",
       "      <td>16747</td>\n",
       "      <td>14184</td>\n",
       "      <td>13636</td>\n",
       "    </tr>\n",
       "  </tbody>\n",
       "</table>\n",
       "</div>"
      ],
      "text/plain": [
       "       policy_number product_code               trans_date  \\\n",
       "count          30371        30371                    30371   \n",
       "unique          5217           37                    20836   \n",
       "top     pol000005951    prod00005  2020-07-01 08:45:55.653   \n",
       "freq             174         9994                       14   \n",
       "\n",
       "                      from_date                  to_date    agent  \\\n",
       "count                     30371                    30371    30371   \n",
       "unique                     1431                     1369      223   \n",
       "top     2018-02-01 00:00:00.000  2019-01-31 00:00:00.000  ag00226   \n",
       "freq                       1122                     1463     4620   \n",
       "\n",
       "       class_of_business client_type renewal_frequency   branch  \n",
       "count              30325       30371             30371    30371  \n",
       "unique                37           3                 5       11  \n",
       "top             cob00031      ct0001            rf0001  br00002  \n",
       "freq                7755       16747             14184    13636  "
      ]
     },
     "execution_count": 10,
     "metadata": {},
     "output_type": "execute_result"
    }
   ],
   "source": [
    "# Policies statistical summary\n",
    "policies.describe(include = 'all', datetime_is_numeric=True)"
   ]
  },
  {
   "cell_type": "markdown",
   "metadata": {
    "id": "bJNhVNKn5uEE"
   },
   "source": [
    "<a name=\"Missing\"></a>\n",
    "## 4. Missing values and duplicates"
   ]
  },
  {
   "cell_type": "code",
   "execution_count": 11,
   "metadata": {
    "colab": {
     "base_uri": "https://localhost:8080/"
    },
    "id": "4Ftu9Y3tbXzk",
    "outputId": "dcf526b6-a8bf-4786-cb4f-9da4a71ca10d"
   },
   "outputs": [
    {
     "data": {
      "text/plain": [
       "(True, True, True)"
      ]
     },
     "execution_count": 11,
     "metadata": {},
     "output_type": "execute_result"
    }
   ],
   "source": [
    "# Check for missing values\n",
    "train.isnull().sum().any(), test.isnull().sum().any(), policies.isnull().sum().any()"
   ]
  },
  {
   "cell_type": "code",
   "execution_count": 12,
   "metadata": {
    "colab": {
     "base_uri": "https://localhost:8080/",
     "height": 608
    },
    "id": "K3eu41vhbXw9",
    "outputId": "ac230664-cd37-47e8-a097-b85a016d9fcd"
   },
   "outputs": [
    {
     "data": {
      "image/png": "[encoded data removed]",
      "text/plain": [
       "<Figure size 648x720 with 1 Axes>"
      ]
     },
     "metadata": {
      "needs_background": "light"
     },
     "output_type": "display_data"
    }
   ],
   "source": [
    "# Plot missing values in train set\n",
    "ax = train.isna().sum().sort_values().plot(kind = 'barh', figsize = (9, 10))\n",
    "plt.title('Percentage of Missing Values Per Column in Train Set', fontdict={'size':15})\n",
    "for p in ax.patches:\n",
    "    percentage ='{:,.0f}%'.format((p.get_width()/train.shape[0])*100)\n",
    "    width, height =p.get_width(),p.get_height()\n",
    "    x=p.get_x()+width+0.02\n",
    "    y=p.get_y()+height/2\n",
    "    ax.annotate(percentage,(x,y))"
   ]
  },
  {
   "cell_type": "markdown",
   "metadata": {
    "id": "e06doaah27vk"
   },
   "source": [
    "Suggestions on how to handle missing values:\n",
    " - Fill in missing values with mode, mean, median..\n",
    " - Drop Missing datapoints with missing values"
   ]
  },
  {
   "cell_type": "code",
   "execution_count": 13,
   "metadata": {
    "colab": {
     "base_uri": "https://localhost:8080/"
    },
    "id": "mALOf0CfbXs0",
    "outputId": "ccdc6564-95ba-45ff-e5a1-59875ab9637d"
   },
   "outputs": [
    {
     "data": {
      "text/plain": [
       "(False, False, False)"
      ]
     },
     "execution_count": 13,
     "metadata": {},
     "output_type": "execute_result"
    }
   ],
   "source": [
    "# Check for duplicates\n",
    "train.duplicated().any(), test.duplicated().any(), policies.duplicated().any()"
   ]
  },
  {
   "cell_type": "markdown",
   "metadata": {
    "id": "6VmqiddbckaX"
   },
   "source": [
    "<a name=\"Outliers\"></a>\n",
    "## 5. Outliers"
   ]
  },
  {
   "cell_type": "code",
   "execution_count": 14,
   "metadata": {
    "colab": {
     "base_uri": "https://localhost:8080/",
     "height": 404
    },
    "id": "-v4vaXv3bXqh",
    "outputId": "c5860d0f-6035-4c43-fbb6-4e1ca0134387"
   },
   "outputs": [
    {
     "data": {
      "image/png": "[encoded data removed]",
      "text/plain": [
       "<Figure size 864x432 with 1 Axes>"
      ]
     },
     "metadata": {
      "needs_background": "light"
     },
     "output_type": "display_data"
    }
   ],
   "source": [
    "# A box plot showing outliers\n",
    "plt.figure(figsize=(12, 6))\n",
    "sns.boxplot(train.target)\n",
    "plt.title('Target Variable Distribution');"
   ]
  },
  {
   "cell_type": "markdown",
   "metadata": {
    "id": "ERPdXhEx2pjD"
   },
   "source": [
    "Outliers are those data points which differs significantly from other observations present in given dataset.\n",
    "\n",
    "Suggestions on how to handle outliers:\n",
    " - Transforming the outliers by scaling - log transformation, box-cox transformation ...\n",
    " - Dropping outliers\n",
    " - Imputation by replacing outliers with mean, median ...\n"
   ]
  },
  {
   "cell_type": "markdown",
   "metadata": {
    "id": "mw2PVnGOdThR"
   },
   "source": [
    "<a name=\"Datatypes\"></a>\n",
    "## 6. Dataset datatypes"
   ]
  },
  {
   "cell_type": "code",
   "execution_count": 15,
   "metadata": {
    "colab": {
     "base_uri": "https://localhost:8080/"
    },
    "id": "ae9D2Fq0dNcc",
    "outputId": "11d37049-a21d-49c2-c752-3d473a2855c2"
   },
   "outputs": [
    {
     "name": "stdout",
     "output_type": "stream",
     "text": [
      "<class 'pandas.core.frame.DataFrame'>\n",
      "RangeIndex: 9376 entries, 0 to 9375\n",
      "Data columns (total 15 columns):\n",
      " #   Column             Non-Null Count  Dtype  \n",
      "---  ------             --------------  -----  \n",
      " 0   claim_id           9376 non-null   object \n",
      " 1   policy_number      9290 non-null   object \n",
      " 2   claim_number       9376 non-null   object \n",
      " 3   sum_insured        9376 non-null   float64\n",
      " 4   product            9376 non-null   object \n",
      " 5   agent              9376 non-null   object \n",
      " 6   class_of_business  9376 non-null   object \n",
      " 7   risk_type          9376 non-null   object \n",
      " 8   loss_date          9376 non-null   object \n",
      " 9   client_type        9376 non-null   object \n",
      " 10  renewal_frequency  9376 non-null   object \n",
      " 11  primary_cause      9376 non-null   object \n",
      " 12  secondary_cause    9376 non-null   object \n",
      " 13  branch             9376 non-null   object \n",
      " 14  target             9376 non-null   float64\n",
      "dtypes: float64(2), object(13)\n",
      "memory usage: 1.1+ MB\n"
     ]
    }
   ],
   "source": [
    "# Train dataset datatypes\n",
    "train.info()"
   ]
  },
  {
   "cell_type": "code",
   "execution_count": 16,
   "metadata": {
    "colab": {
     "base_uri": "https://localhost:8080/"
    },
    "id": "7fhg4-rsdNaW",
    "outputId": "97ca31a1-1a19-4213-cf5f-3a226494c63a"
   },
   "outputs": [
    {
     "data": {
      "text/plain": [
       "count                    9376\n",
       "unique                   1359\n",
       "top       2019-08-20 00:00:00\n",
       "freq                       83\n",
       "first     2018-01-01 00:00:00\n",
       "last      2021-10-22 00:00:00\n",
       "Name: loss_date, dtype: object"
      ]
     },
     "execution_count": 16,
     "metadata": {},
     "output_type": "execute_result"
    }
   ],
   "source": [
    "# Convert datetime variables to datetime objects\n",
    "train.loss_date = pd.to_datetime(train.loss_date, errors='coerce')\n",
    "\n",
    "# Confirm that the dates have been converted successfully \n",
    "train.loss_date.describe()"
   ]
  },
  {
   "cell_type": "code",
   "execution_count": 17,
   "metadata": {
    "colab": {
     "base_uri": "https://localhost:8080/",
     "height": 206
    },
    "id": "gdlTsMModNXy",
    "outputId": "21fabfba-b075-42ff-e873-963193b8fa13"
   },
   "outputs": [
    {
     "data": {
      "text/html": [
       "<div>\n",
       "<style scoped>\n",
       "    .dataframe tbody tr th:only-of-type {\n",
       "        vertical-align: middle;\n",
       "    }\n",
       "\n",
       "    .dataframe tbody tr th {\n",
       "        vertical-align: top;\n",
       "    }\n",
       "\n",
       "    .dataframe thead th {\n",
       "        text-align: right;\n",
       "    }\n",
       "</style>\n",
       "<table border=\"1\" class=\"dataframe\">\n",
       "  <thead>\n",
       "    <tr style=\"text-align: right;\">\n",
       "      <th></th>\n",
       "      <th>agent</th>\n",
       "      <th>branch</th>\n",
       "      <th>claim_number</th>\n",
       "      <th>class_of_business</th>\n",
       "      <th>client_type</th>\n",
       "      <th>policy_number</th>\n",
       "      <th>primary_cause</th>\n",
       "      <th>product</th>\n",
       "      <th>renewal_frequency</th>\n",
       "      <th>risk_type</th>\n",
       "      <th>secondary_cause</th>\n",
       "    </tr>\n",
       "  </thead>\n",
       "  <tbody>\n",
       "    <tr>\n",
       "      <th>0</th>\n",
       "      <td>ag00068</td>\n",
       "      <td>br00006</td>\n",
       "      <td>claim0011359</td>\n",
       "      <td>cob00031</td>\n",
       "      <td>ct0003</td>\n",
       "      <td>pol000009680</td>\n",
       "      <td>pc0007</td>\n",
       "      <td>prod00027</td>\n",
       "      <td>rf0001</td>\n",
       "      <td>rt00006</td>\n",
       "      <td>sc00022</td>\n",
       "    </tr>\n",
       "    <tr>\n",
       "      <th>1</th>\n",
       "      <td>ag00226</td>\n",
       "      <td>br00002</td>\n",
       "      <td>claim0005272</td>\n",
       "      <td>cob00010</td>\n",
       "      <td>ct0003</td>\n",
       "      <td>pol000006869</td>\n",
       "      <td>pc0007</td>\n",
       "      <td>prod00005</td>\n",
       "      <td>rf0001</td>\n",
       "      <td>rt00032</td>\n",
       "      <td>sc00023</td>\n",
       "    </tr>\n",
       "    <tr>\n",
       "      <th>2</th>\n",
       "      <td>ag00037</td>\n",
       "      <td>br00002</td>\n",
       "      <td>claim0004147</td>\n",
       "      <td>cob00010</td>\n",
       "      <td>ct0003</td>\n",
       "      <td>pol000006135</td>\n",
       "      <td>pc0007</td>\n",
       "      <td>prod00029</td>\n",
       "      <td>rf0001</td>\n",
       "      <td>rt00026</td>\n",
       "      <td>sc00024</td>\n",
       "    </tr>\n",
       "    <tr>\n",
       "      <th>3</th>\n",
       "      <td>ag00037</td>\n",
       "      <td>br00001</td>\n",
       "      <td>claim0009962</td>\n",
       "      <td>cob00009</td>\n",
       "      <td>ct0003</td>\n",
       "      <td>pol000008991</td>\n",
       "      <td>pc0007</td>\n",
       "      <td>prod00005</td>\n",
       "      <td>rf0001</td>\n",
       "      <td>rt00032</td>\n",
       "      <td>sc00021</td>\n",
       "    </tr>\n",
       "    <tr>\n",
       "      <th>4</th>\n",
       "      <td>ag00226</td>\n",
       "      <td>br00001</td>\n",
       "      <td>claim0007346</td>\n",
       "      <td>cob00034</td>\n",
       "      <td>ct0001</td>\n",
       "      <td>pol000007768</td>\n",
       "      <td>pc0007</td>\n",
       "      <td>prod00015</td>\n",
       "      <td>rf0001</td>\n",
       "      <td>rt00023</td>\n",
       "      <td>sc00021</td>\n",
       "    </tr>\n",
       "  </tbody>\n",
       "</table>\n",
       "</div>"
      ],
      "text/plain": [
       "     agent   branch  claim_number class_of_business client_type policy_number  \\\n",
       "0  ag00068  br00006  claim0011359          cob00031      ct0003  pol000009680   \n",
       "1  ag00226  br00002  claim0005272          cob00010      ct0003  pol000006869   \n",
       "2  ag00037  br00002  claim0004147          cob00010      ct0003  pol000006135   \n",
       "3  ag00037  br00001  claim0009962          cob00009      ct0003  pol000008991   \n",
       "4  ag00226  br00001  claim0007346          cob00034      ct0001  pol000007768   \n",
       "\n",
       "  primary_cause    product renewal_frequency risk_type secondary_cause  \n",
       "0        pc0007  prod00027            rf0001   rt00006         sc00022  \n",
       "1        pc0007  prod00005            rf0001   rt00032         sc00023  \n",
       "2        pc0007  prod00029            rf0001   rt00026         sc00024  \n",
       "3        pc0007  prod00005            rf0001   rt00032         sc00021  \n",
       "4        pc0007  prod00015            rf0001   rt00023         sc00021  "
      ]
     },
     "execution_count": 17,
     "metadata": {},
     "output_type": "execute_result"
    }
   ],
   "source": [
    "# Convert categorical variables to categorical objects\n",
    "cat_cols = train.columns.difference(['claim_id', 'loss_date', 'sum_insured', 'target']).tolist()\n",
    "\n",
    "# Preview categorical variables\n",
    "train[cat_cols].head()"
   ]
  },
  {
   "cell_type": "markdown",
   "metadata": {
    "id": "ndwt2QXVpyXF"
   },
   "source": [
    "<a name=\"Engineering\"></a>\n",
    "## 7. Feature engineering"
   ]
  },
  {
   "cell_type": "code",
   "execution_count": 18,
   "metadata": {
    "colab": {
     "base_uri": "https://localhost:8080/",
     "height": 206
    },
    "id": "Pdt5924PbXoY",
    "outputId": "df7b088d-0410-4bd0-d584-f53f3102e134"
   },
   "outputs": [
    {
     "data": {
      "text/html": [
       "<div>\n",
       "<style scoped>\n",
       "    .dataframe tbody tr th:only-of-type {\n",
       "        vertical-align: middle;\n",
       "    }\n",
       "\n",
       "    .dataframe tbody tr th {\n",
       "        vertical-align: top;\n",
       "    }\n",
       "\n",
       "    .dataframe thead th {\n",
       "        text-align: right;\n",
       "    }\n",
       "</style>\n",
       "<table border=\"1\" class=\"dataframe\">\n",
       "  <thead>\n",
       "    <tr style=\"text-align: right;\">\n",
       "      <th></th>\n",
       "      <th>loss_date</th>\n",
       "      <th>loss_date_day</th>\n",
       "      <th>loss_date_month</th>\n",
       "      <th>loss_date_year</th>\n",
       "    </tr>\n",
       "  </thead>\n",
       "  <tbody>\n",
       "    <tr>\n",
       "      <th>0</th>\n",
       "      <td>2021-05-13</td>\n",
       "      <td>13</td>\n",
       "      <td>5</td>\n",
       "      <td>2021</td>\n",
       "    </tr>\n",
       "    <tr>\n",
       "      <th>1</th>\n",
       "      <td>2018-05-13</td>\n",
       "      <td>13</td>\n",
       "      <td>5</td>\n",
       "      <td>2018</td>\n",
       "    </tr>\n",
       "    <tr>\n",
       "      <th>2</th>\n",
       "      <td>2018-08-18</td>\n",
       "      <td>18</td>\n",
       "      <td>8</td>\n",
       "      <td>2018</td>\n",
       "    </tr>\n",
       "    <tr>\n",
       "      <th>3</th>\n",
       "      <td>2018-12-20</td>\n",
       "      <td>20</td>\n",
       "      <td>12</td>\n",
       "      <td>2018</td>\n",
       "    </tr>\n",
       "    <tr>\n",
       "      <th>4</th>\n",
       "      <td>2018-11-07</td>\n",
       "      <td>7</td>\n",
       "      <td>11</td>\n",
       "      <td>2018</td>\n",
       "    </tr>\n",
       "  </tbody>\n",
       "</table>\n",
       "</div>"
      ],
      "text/plain": [
       "   loss_date  loss_date_day  loss_date_month  loss_date_year\n",
       "0 2021-05-13             13                5            2021\n",
       "1 2018-05-13             13                5            2018\n",
       "2 2018-08-18             18                8            2018\n",
       "3 2018-12-20             20               12            2018\n",
       "4 2018-11-07              7               11            2018"
      ]
     },
     "execution_count": 18,
     "metadata": {},
     "output_type": "execute_result"
    }
   ],
   "source": [
    "# Extract day, month and year from the loss date column\n",
    "# day\n",
    "train['loss_date_day'] = train.loss_date.dt.day\n",
    "\n",
    "# month\n",
    "train['loss_date_month'] = train.loss_date.dt.month\n",
    " \n",
    "# year\n",
    "train['loss_date_year'] = train.loss_date.dt.year\n",
    "\n",
    "# Preview engineered date features\n",
    "train[['loss_date', 'loss_date_day', 'loss_date_month', 'loss_date_year']].head()"
   ]
  },
  {
   "cell_type": "code",
   "execution_count": 19,
   "metadata": {},
   "outputs": [],
   "source": [
    "train = train.drop('claim_id',axis=1)\n",
    "test = test.drop('claim_id',axis=1)"
   ]
  },
  {
   "cell_type": "markdown",
   "metadata": {
    "id": "jY_lY3A2w5Qb"
   },
   "source": [
    "<a name=\"Dates\"></a>\n",
    "## 8. Date features EDA"
   ]
  },
  {
   "cell_type": "code",
   "execution_count": 20,
   "metadata": {
    "colab": {
     "base_uri": "https://localhost:8080/",
     "height": 458
    },
    "id": "6BM9cJepx03e",
    "outputId": "e7009e7e-bd29-48f7-cbed-982636af3e0b"
   },
   "outputs": [
    {
     "data": {
      "image/png": "[encoded data removed]",
      "text/plain": [
       "<Figure size 1008x504 with 1 Axes>"
      ]
     },
     "metadata": {
      "needs_background": "light"
     },
     "output_type": "display_data"
    }
   ],
   "source": [
    "# Loss month countplot\n",
    "plt.figure(figsize = (14, 7))\n",
    "sns.countplot(x = 'loss_date_month', data = train)\n",
    "plt.title('Loss month count plot')\n",
    "plt.show()"
   ]
  },
  {
   "cell_type": "markdown",
   "metadata": {
    "id": "cGIt4f-esd9J"
   },
   "source": [
    "- June has the highest number of claims and December has the least number of claims"
   ]
  },
  {
   "cell_type": "code",
   "execution_count": 21,
   "metadata": {
    "colab": {
     "base_uri": "https://localhost:8080/",
     "height": 351
    },
    "id": "jLifvK1kx8GX",
    "outputId": "94fa6a9e-e72e-41b9-a2d7-407a3ae9f829"
   },
   "outputs": [
    {
     "data": {
      "image/png": "[encoded data removed]",
      "text/plain": [
       "<Figure size 720x360 with 1 Axes>"
      ]
     },
     "metadata": {
      "needs_background": "light"
     },
     "output_type": "display_data"
    }
   ],
   "source": [
    "# Loss year countplot\n",
    "plt.figure(figsize = (10, 5))\n",
    "sns.countplot(x = 'loss_date_year', data = train)\n",
    "plt.title('Loss year count plot')\n",
    "plt.show()"
   ]
  },
  {
   "cell_type": "markdown",
   "metadata": {
    "id": "8ppGvq8Ws0Pa"
   },
   "source": [
    "- Most of the claims were done in the year 2018 and the least in the year 2021"
   ]
  },
  {
   "cell_type": "markdown",
   "metadata": {
    "id": "Y49kCYC654fo"
   },
   "source": [
    "<a name=\"Branch\"></a>\n",
    "## 9. Branch features EDA"
   ]
  },
  {
   "cell_type": "code",
   "execution_count": 22,
   "metadata": {
    "colab": {
     "base_uri": "https://localhost:8080/",
     "height": 350
    },
    "id": "uPXuAUdyz8bU",
    "outputId": "7aaf357d-5101-4f85-a770-832df9842e02"
   },
   "outputs": [
    {
     "data": {
      "image/png": "[encoded data removed]",
      "text/plain": [
       "<Figure size 1008x360 with 1 Axes>"
      ]
     },
     "metadata": {
      "needs_background": "light"
     },
     "output_type": "display_data"
    }
   ],
   "source": [
    "plt.figure(figsize = (14, 5))\n",
    "sns.boxplot(x = 'branch', y = 'sum_insured', data = train)\n",
    "plt.title('Branch Vs Suminsured boxplots')\n",
    "plt.show()"
   ]
  },
  {
   "cell_type": "markdown",
   "metadata": {
    "id": "LUEQZRActCJE"
   },
   "source": [
    "- Branch 1 and 2 seem to have the highest number of outliers in the sum insured variable.\n",
    "- This outliers might affect model performance, so its best to handle them"
   ]
  },
  {
   "cell_type": "code",
   "execution_count": 23,
   "metadata": {
    "colab": {
     "base_uri": "https://localhost:8080/",
     "height": 457
    },
    "id": "RoXr0Jtb0fOy",
    "outputId": "ac8446ce-3a3b-4019-9b9e-e233d23c9a31"
   },
   "outputs": [
    {
     "data": {
      "image/png": "[encoded data removed]",
      "text/plain": [
       "<Figure size 1008x504 with 1 Axes>"
      ]
     },
     "metadata": {
      "needs_background": "light"
     },
     "output_type": "display_data"
    }
   ],
   "source": [
    "# Branch countplot\n",
    "plt.figure(figsize = (14, 7))\n",
    "sns.countplot(x = 'branch', data = train)\n",
    "plt.title('Branch count plot')\n",
    "plt.show()"
   ]
  },
  {
   "cell_type": "markdown",
   "metadata": {
    "id": "mi3vewJPtcQ9"
   },
   "source": [
    " - Most of the claims are concentrated in branch1 and branch2, so when modelling and creating new features, try to balance out the features to avoid overfitting"
   ]
  },
  {
   "cell_type": "markdown",
   "metadata": {
    "id": "ntnmhDbv4ydR"
   },
   "source": [
    "<a name=\"Categorical\"></a>\n",
    "## 10. Categorical features\n",
    "*Try different strategies of dealing with categorical variables*\n",
    " - One hot encoding\n",
    " - Label encoding\n",
    " - Target encoding\n",
    " - Reduce the number of unique values..."
   ]
  },
  {
   "cell_type": "code",
   "execution_count": 24,
   "metadata": {
    "colab": {
     "base_uri": "https://localhost:8080/",
     "height": 270
    },
    "id": "jdlwDZcKXzZG",
    "outputId": "2f4c2487-b108-4a06-e7f6-d8580a611607"
   },
   "outputs": [
    {
     "data": {
      "text/html": [
       "<div>\n",
       "<style scoped>\n",
       "    .dataframe tbody tr th:only-of-type {\n",
       "        vertical-align: middle;\n",
       "    }\n",
       "\n",
       "    .dataframe tbody tr th {\n",
       "        vertical-align: top;\n",
       "    }\n",
       "\n",
       "    .dataframe thead th {\n",
       "        text-align: right;\n",
       "    }\n",
       "</style>\n",
       "<table border=\"1\" class=\"dataframe\">\n",
       "  <thead>\n",
       "    <tr style=\"text-align: right;\">\n",
       "      <th></th>\n",
       "      <th>policy_number</th>\n",
       "      <th>claim_number</th>\n",
       "      <th>sum_insured</th>\n",
       "      <th>product</th>\n",
       "      <th>agent</th>\n",
       "      <th>class_of_business</th>\n",
       "      <th>risk_type</th>\n",
       "      <th>loss_date</th>\n",
       "      <th>client_type</th>\n",
       "      <th>renewal_frequency</th>\n",
       "      <th>primary_cause</th>\n",
       "      <th>secondary_cause</th>\n",
       "      <th>branch</th>\n",
       "      <th>target</th>\n",
       "      <th>loss_date_day</th>\n",
       "      <th>loss_date_month</th>\n",
       "      <th>loss_date_year</th>\n",
       "    </tr>\n",
       "  </thead>\n",
       "  <tbody>\n",
       "    <tr>\n",
       "      <th>0</th>\n",
       "      <td>3070</td>\n",
       "      <td>7439</td>\n",
       "      <td>300000.00000</td>\n",
       "      <td>26</td>\n",
       "      <td>4</td>\n",
       "      <td>30</td>\n",
       "      <td>5</td>\n",
       "      <td>2021-05-13</td>\n",
       "      <td>2</td>\n",
       "      <td>0</td>\n",
       "      <td>6</td>\n",
       "      <td>20</td>\n",
       "      <td>5</td>\n",
       "      <td>82150.00000</td>\n",
       "      <td>13</td>\n",
       "      <td>5</td>\n",
       "      <td>2021</td>\n",
       "    </tr>\n",
       "    <tr>\n",
       "      <th>1</th>\n",
       "      <td>1126</td>\n",
       "      <td>3469</td>\n",
       "      <td>16000.00000</td>\n",
       "      <td>4</td>\n",
       "      <td>7</td>\n",
       "      <td>9</td>\n",
       "      <td>31</td>\n",
       "      <td>2018-05-13</td>\n",
       "      <td>2</td>\n",
       "      <td>0</td>\n",
       "      <td>6</td>\n",
       "      <td>21</td>\n",
       "      <td>1</td>\n",
       "      <td>3780.24000</td>\n",
       "      <td>13</td>\n",
       "      <td>5</td>\n",
       "      <td>2018</td>\n",
       "    </tr>\n",
       "    <tr>\n",
       "      <th>2</th>\n",
       "      <td>630</td>\n",
       "      <td>2799</td>\n",
       "      <td>3000.00000</td>\n",
       "      <td>28</td>\n",
       "      <td>1</td>\n",
       "      <td>9</td>\n",
       "      <td>25</td>\n",
       "      <td>2018-08-18</td>\n",
       "      <td>2</td>\n",
       "      <td>0</td>\n",
       "      <td>6</td>\n",
       "      <td>22</td>\n",
       "      <td>1</td>\n",
       "      <td>2196.50000</td>\n",
       "      <td>18</td>\n",
       "      <td>8</td>\n",
       "      <td>2018</td>\n",
       "    </tr>\n",
       "    <tr>\n",
       "      <th>3</th>\n",
       "      <td>2546</td>\n",
       "      <td>6448</td>\n",
       "      <td>6000.00000</td>\n",
       "      <td>4</td>\n",
       "      <td>1</td>\n",
       "      <td>8</td>\n",
       "      <td>31</td>\n",
       "      <td>2018-12-20</td>\n",
       "      <td>2</td>\n",
       "      <td>0</td>\n",
       "      <td>6</td>\n",
       "      <td>19</td>\n",
       "      <td>0</td>\n",
       "      <td>105.67000</td>\n",
       "      <td>20</td>\n",
       "      <td>12</td>\n",
       "      <td>2018</td>\n",
       "    </tr>\n",
       "    <tr>\n",
       "      <th>4</th>\n",
       "      <td>1767</td>\n",
       "      <td>4832</td>\n",
       "      <td>26850.00000</td>\n",
       "      <td>14</td>\n",
       "      <td>7</td>\n",
       "      <td>32</td>\n",
       "      <td>22</td>\n",
       "      <td>2018-11-07</td>\n",
       "      <td>0</td>\n",
       "      <td>0</td>\n",
       "      <td>6</td>\n",
       "      <td>19</td>\n",
       "      <td>0</td>\n",
       "      <td>1605.64000</td>\n",
       "      <td>7</td>\n",
       "      <td>11</td>\n",
       "      <td>2018</td>\n",
       "    </tr>\n",
       "  </tbody>\n",
       "</table>\n",
       "</div>"
      ],
      "text/plain": [
       "   policy_number  claim_number  sum_insured  product  agent  \\\n",
       "0           3070          7439 300000.00000       26      4   \n",
       "1           1126          3469  16000.00000        4      7   \n",
       "2            630          2799   3000.00000       28      1   \n",
       "3           2546          6448   6000.00000        4      1   \n",
       "4           1767          4832  26850.00000       14      7   \n",
       "\n",
       "   class_of_business  risk_type  loss_date  client_type  renewal_frequency  \\\n",
       "0                 30          5 2021-05-13            2                  0   \n",
       "1                  9         31 2018-05-13            2                  0   \n",
       "2                  9         25 2018-08-18            2                  0   \n",
       "3                  8         31 2018-12-20            2                  0   \n",
       "4                 32         22 2018-11-07            0                  0   \n",
       "\n",
       "   primary_cause  secondary_cause  branch      target  loss_date_day  \\\n",
       "0              6               20       5 82150.00000             13   \n",
       "1              6               21       1  3780.24000             13   \n",
       "2              6               22       1  2196.50000             18   \n",
       "3              6               19       0   105.67000             20   \n",
       "4              6               19       0  1605.64000              7   \n",
       "\n",
       "   loss_date_month  loss_date_year  \n",
       "0                5            2021  \n",
       "1                5            2018  \n",
       "2                8            2018  \n",
       "3               12            2018  \n",
       "4               11            2018  "
      ]
     },
     "execution_count": 24,
     "metadata": {},
     "output_type": "execute_result"
    }
   ],
   "source": [
    "# Label encode categorical variables\n",
    "for col in cat_cols:\n",
    "  # Instantiate Labelencoder\n",
    "  le = LabelEncoder()\n",
    "  train[col] = le.fit_transform(train[col])\n",
    "\n",
    "# Preview engineered train dataset\n",
    "train.head()"
   ]
  },
  {
   "cell_type": "code",
   "execution_count": 25,
   "metadata": {},
   "outputs": [],
   "source": [
    "train = pd.get_dummies(train, drop_first=True)"
   ]
  },
  {
   "cell_type": "markdown",
   "metadata": {
    "id": "0b2HJYzArroH"
   },
   "source": [
    "<a name=\"Preprocess\"></a>\n",
    "## 11.  Preprocess test dataset"
   ]
  },
  {
   "cell_type": "code",
   "execution_count": 26,
   "metadata": {
    "colab": {
     "base_uri": "https://localhost:8080/",
     "height": 270
    },
    "id": "ELn_cwzCXzWw",
    "outputId": "3d2af863-47c3-4a22-f174-66f23da037a5"
   },
   "outputs": [
    {
     "data": {
      "text/html": [
       "<div>\n",
       "<style scoped>\n",
       "    .dataframe tbody tr th:only-of-type {\n",
       "        vertical-align: middle;\n",
       "    }\n",
       "\n",
       "    .dataframe tbody tr th {\n",
       "        vertical-align: top;\n",
       "    }\n",
       "\n",
       "    .dataframe thead th {\n",
       "        text-align: right;\n",
       "    }\n",
       "</style>\n",
       "<table border=\"1\" class=\"dataframe\">\n",
       "  <thead>\n",
       "    <tr style=\"text-align: right;\">\n",
       "      <th></th>\n",
       "      <th>policy_number</th>\n",
       "      <th>claim_number</th>\n",
       "      <th>sum_insured</th>\n",
       "      <th>product</th>\n",
       "      <th>agent</th>\n",
       "      <th>class_of_business</th>\n",
       "      <th>risk_type</th>\n",
       "      <th>loss_date</th>\n",
       "      <th>client_type</th>\n",
       "      <th>renewal_frequency</th>\n",
       "      <th>primary_cause</th>\n",
       "      <th>secondary_cause</th>\n",
       "      <th>branch</th>\n",
       "      <th>loss_date_day</th>\n",
       "      <th>loss_date_month</th>\n",
       "      <th>loss_date_year</th>\n",
       "    </tr>\n",
       "  </thead>\n",
       "  <tbody>\n",
       "    <tr>\n",
       "      <th>0</th>\n",
       "      <td>739</td>\n",
       "      <td>1667</td>\n",
       "      <td>300000.00000</td>\n",
       "      <td>4</td>\n",
       "      <td>4</td>\n",
       "      <td>8</td>\n",
       "      <td>29</td>\n",
       "      <td>2021-03-11</td>\n",
       "      <td>2</td>\n",
       "      <td>0</td>\n",
       "      <td>6</td>\n",
       "      <td>26</td>\n",
       "      <td>3</td>\n",
       "      <td>11</td>\n",
       "      <td>3</td>\n",
       "      <td>2021</td>\n",
       "    </tr>\n",
       "    <tr>\n",
       "      <th>1</th>\n",
       "      <td>312</td>\n",
       "      <td>883</td>\n",
       "      <td>2700000.00000</td>\n",
       "      <td>12</td>\n",
       "      <td>3</td>\n",
       "      <td>28</td>\n",
       "      <td>20</td>\n",
       "      <td>2020-06-25</td>\n",
       "      <td>0</td>\n",
       "      <td>2</td>\n",
       "      <td>6</td>\n",
       "      <td>20</td>\n",
       "      <td>1</td>\n",
       "      <td>25</td>\n",
       "      <td>6</td>\n",
       "      <td>2020</td>\n",
       "    </tr>\n",
       "    <tr>\n",
       "      <th>2</th>\n",
       "      <td>917</td>\n",
       "      <td>1895</td>\n",
       "      <td>4071352.00000</td>\n",
       "      <td>10</td>\n",
       "      <td>0</td>\n",
       "      <td>14</td>\n",
       "      <td>14</td>\n",
       "      <td>2019-03-14</td>\n",
       "      <td>0</td>\n",
       "      <td>0</td>\n",
       "      <td>9</td>\n",
       "      <td>43</td>\n",
       "      <td>0</td>\n",
       "      <td>14</td>\n",
       "      <td>3</td>\n",
       "      <td>2019</td>\n",
       "    </tr>\n",
       "    <tr>\n",
       "      <th>3</th>\n",
       "      <td>2081</td>\n",
       "      <td>3852</td>\n",
       "      <td>0.00000</td>\n",
       "      <td>1</td>\n",
       "      <td>1</td>\n",
       "      <td>1</td>\n",
       "      <td>1</td>\n",
       "      <td>2018-12-04</td>\n",
       "      <td>0</td>\n",
       "      <td>1</td>\n",
       "      <td>1</td>\n",
       "      <td>10</td>\n",
       "      <td>4</td>\n",
       "      <td>4</td>\n",
       "      <td>12</td>\n",
       "      <td>2018</td>\n",
       "    </tr>\n",
       "    <tr>\n",
       "      <th>4</th>\n",
       "      <td>257</td>\n",
       "      <td>507</td>\n",
       "      <td>1607178.00000</td>\n",
       "      <td>12</td>\n",
       "      <td>1</td>\n",
       "      <td>28</td>\n",
       "      <td>20</td>\n",
       "      <td>2019-09-18</td>\n",
       "      <td>0</td>\n",
       "      <td>2</td>\n",
       "      <td>6</td>\n",
       "      <td>20</td>\n",
       "      <td>1</td>\n",
       "      <td>18</td>\n",
       "      <td>9</td>\n",
       "      <td>2019</td>\n",
       "    </tr>\n",
       "  </tbody>\n",
       "</table>\n",
       "</div>"
      ],
      "text/plain": [
       "   policy_number  claim_number   sum_insured  product  agent  \\\n",
       "0            739          1667  300000.00000        4      4   \n",
       "1            312           883 2700000.00000       12      3   \n",
       "2            917          1895 4071352.00000       10      0   \n",
       "3           2081          3852       0.00000        1      1   \n",
       "4            257           507 1607178.00000       12      1   \n",
       "\n",
       "   class_of_business  risk_type  loss_date  client_type  renewal_frequency  \\\n",
       "0                  8         29 2021-03-11            2                  0   \n",
       "1                 28         20 2020-06-25            0                  2   \n",
       "2                 14         14 2019-03-14            0                  0   \n",
       "3                  1          1 2018-12-04            0                  1   \n",
       "4                 28         20 2019-09-18            0                  2   \n",
       "\n",
       "   primary_cause  secondary_cause  branch  loss_date_day  loss_date_month  \\\n",
       "0              6               26       3             11                3   \n",
       "1              6               20       1             25                6   \n",
       "2              9               43       0             14                3   \n",
       "3              1               10       4              4               12   \n",
       "4              6               20       1             18                9   \n",
       "\n",
       "   loss_date_year  \n",
       "0            2021  \n",
       "1            2020  \n",
       "2            2019  \n",
       "3            2018  \n",
       "4            2019  "
      ]
     },
     "execution_count": 26,
     "metadata": {},
     "output_type": "execute_result"
    }
   ],
   "source": [
    "# Convert datetime variables to datetime objects\n",
    "test.loss_date = pd.to_datetime(test.loss_date, errors='coerce')\n",
    "\n",
    "# Fill in missing values in categorical variables with the most common\n",
    "test[cat_cols] = test[cat_cols].apply(lambda x: x.fillna(x.value_counts().index[0]))\n",
    "\n",
    "# Convert\n",
    "for col in cat_cols:\n",
    "  test[col] = test[col].astype('category')\n",
    "\n",
    "# Extract day, month and year from the loss date column\n",
    "test['loss_date_day'] = test.loss_date.dt.day #day\n",
    "\n",
    "test['loss_date_month'] = test.loss_date.dt.month #month\n",
    " \n",
    "test['loss_date_year'] = test.loss_date.dt.year #year\n",
    "\n",
    "# Label encode categorical variables\n",
    "for col in cat_cols:\n",
    "  # Instantiate Labelencoder\n",
    "  le = LabelEncoder()\n",
    "  test[col] = le.fit_transform(test[col])\n",
    "\n",
    "# Preview engineered test dataset\n",
    "test.head()"
   ]
  },
  {
   "cell_type": "code",
   "execution_count": 27,
   "metadata": {},
   "outputs": [
    {
     "data": {
      "text/html": [
       "<div>\n",
       "<style scoped>\n",
       "    .dataframe tbody tr th:only-of-type {\n",
       "        vertical-align: middle;\n",
       "    }\n",
       "\n",
       "    .dataframe tbody tr th {\n",
       "        vertical-align: top;\n",
       "    }\n",
       "\n",
       "    .dataframe thead th {\n",
       "        text-align: right;\n",
       "    }\n",
       "</style>\n",
       "<table border=\"1\" class=\"dataframe\">\n",
       "  <thead>\n",
       "    <tr style=\"text-align: right;\">\n",
       "      <th></th>\n",
       "      <th>policy_number</th>\n",
       "      <th>claim_number</th>\n",
       "      <th>sum_insured</th>\n",
       "      <th>product</th>\n",
       "      <th>agent</th>\n",
       "      <th>class_of_business</th>\n",
       "      <th>risk_type</th>\n",
       "      <th>loss_date</th>\n",
       "      <th>client_type</th>\n",
       "      <th>renewal_frequency</th>\n",
       "      <th>primary_cause</th>\n",
       "      <th>secondary_cause</th>\n",
       "      <th>branch</th>\n",
       "      <th>target</th>\n",
       "      <th>loss_date_day</th>\n",
       "      <th>loss_date_month</th>\n",
       "      <th>loss_date_year</th>\n",
       "    </tr>\n",
       "  </thead>\n",
       "  <tbody>\n",
       "    <tr>\n",
       "      <th>0</th>\n",
       "      <td>3070</td>\n",
       "      <td>7439</td>\n",
       "      <td>300000.00000</td>\n",
       "      <td>26</td>\n",
       "      <td>4</td>\n",
       "      <td>30</td>\n",
       "      <td>5</td>\n",
       "      <td>2021-05-13</td>\n",
       "      <td>2</td>\n",
       "      <td>0</td>\n",
       "      <td>6</td>\n",
       "      <td>20</td>\n",
       "      <td>5</td>\n",
       "      <td>82150.00000</td>\n",
       "      <td>13</td>\n",
       "      <td>5</td>\n",
       "      <td>2021</td>\n",
       "    </tr>\n",
       "    <tr>\n",
       "      <th>1</th>\n",
       "      <td>1126</td>\n",
       "      <td>3469</td>\n",
       "      <td>16000.00000</td>\n",
       "      <td>4</td>\n",
       "      <td>7</td>\n",
       "      <td>9</td>\n",
       "      <td>31</td>\n",
       "      <td>2018-05-13</td>\n",
       "      <td>2</td>\n",
       "      <td>0</td>\n",
       "      <td>6</td>\n",
       "      <td>21</td>\n",
       "      <td>1</td>\n",
       "      <td>3780.24000</td>\n",
       "      <td>13</td>\n",
       "      <td>5</td>\n",
       "      <td>2018</td>\n",
       "    </tr>\n",
       "    <tr>\n",
       "      <th>2</th>\n",
       "      <td>630</td>\n",
       "      <td>2799</td>\n",
       "      <td>3000.00000</td>\n",
       "      <td>28</td>\n",
       "      <td>1</td>\n",
       "      <td>9</td>\n",
       "      <td>25</td>\n",
       "      <td>2018-08-18</td>\n",
       "      <td>2</td>\n",
       "      <td>0</td>\n",
       "      <td>6</td>\n",
       "      <td>22</td>\n",
       "      <td>1</td>\n",
       "      <td>2196.50000</td>\n",
       "      <td>18</td>\n",
       "      <td>8</td>\n",
       "      <td>2018</td>\n",
       "    </tr>\n",
       "    <tr>\n",
       "      <th>3</th>\n",
       "      <td>2546</td>\n",
       "      <td>6448</td>\n",
       "      <td>6000.00000</td>\n",
       "      <td>4</td>\n",
       "      <td>1</td>\n",
       "      <td>8</td>\n",
       "      <td>31</td>\n",
       "      <td>2018-12-20</td>\n",
       "      <td>2</td>\n",
       "      <td>0</td>\n",
       "      <td>6</td>\n",
       "      <td>19</td>\n",
       "      <td>0</td>\n",
       "      <td>105.67000</td>\n",
       "      <td>20</td>\n",
       "      <td>12</td>\n",
       "      <td>2018</td>\n",
       "    </tr>\n",
       "    <tr>\n",
       "      <th>4</th>\n",
       "      <td>1767</td>\n",
       "      <td>4832</td>\n",
       "      <td>26850.00000</td>\n",
       "      <td>14</td>\n",
       "      <td>7</td>\n",
       "      <td>32</td>\n",
       "      <td>22</td>\n",
       "      <td>2018-11-07</td>\n",
       "      <td>0</td>\n",
       "      <td>0</td>\n",
       "      <td>6</td>\n",
       "      <td>19</td>\n",
       "      <td>0</td>\n",
       "      <td>1605.64000</td>\n",
       "      <td>7</td>\n",
       "      <td>11</td>\n",
       "      <td>2018</td>\n",
       "    </tr>\n",
       "  </tbody>\n",
       "</table>\n",
       "</div>"
      ],
      "text/plain": [
       "   policy_number  claim_number  sum_insured  product  agent  \\\n",
       "0           3070          7439 300000.00000       26      4   \n",
       "1           1126          3469  16000.00000        4      7   \n",
       "2            630          2799   3000.00000       28      1   \n",
       "3           2546          6448   6000.00000        4      1   \n",
       "4           1767          4832  26850.00000       14      7   \n",
       "\n",
       "   class_of_business  risk_type  loss_date  client_type  renewal_frequency  \\\n",
       "0                 30          5 2021-05-13            2                  0   \n",
       "1                  9         31 2018-05-13            2                  0   \n",
       "2                  9         25 2018-08-18            2                  0   \n",
       "3                  8         31 2018-12-20            2                  0   \n",
       "4                 32         22 2018-11-07            0                  0   \n",
       "\n",
       "   primary_cause  secondary_cause  branch      target  loss_date_day  \\\n",
       "0              6               20       5 82150.00000             13   \n",
       "1              6               21       1  3780.24000             13   \n",
       "2              6               22       1  2196.50000             18   \n",
       "3              6               19       0   105.67000             20   \n",
       "4              6               19       0  1605.64000              7   \n",
       "\n",
       "   loss_date_month  loss_date_year  \n",
       "0                5            2021  \n",
       "1                5            2018  \n",
       "2                8            2018  \n",
       "3               12            2018  \n",
       "4               11            2018  "
      ]
     },
     "execution_count": 27,
     "metadata": {},
     "output_type": "execute_result"
    }
   ],
   "source": [
    "train.head()"
   ]
  },
  {
   "cell_type": "code",
   "execution_count": 28,
   "metadata": {},
   "outputs": [],
   "source": [
    "# X.shape, test.shape"
   ]
  },
  {
   "cell_type": "code",
   "execution_count": 29,
   "metadata": {},
   "outputs": [
    {
     "name": "stdout",
     "output_type": "stream",
     "text": [
      "policy_number         2209.25000\n",
      "claim_number          4572.50000\n",
      "sum_insured         413500.00000\n",
      "product                  7.00000\n",
      "agent                    6.00000\n",
      "class_of_business       24.00000\n",
      "risk_type                9.00000\n",
      "client_type              2.00000\n",
      "renewal_frequency        1.00000\n",
      "primary_cause            0.00000\n",
      "secondary_cause          3.00000\n",
      "branch                   1.00000\n",
      "loss_date_day           15.00000\n",
      "loss_date_month          6.00000\n",
      "loss_date_year           2.00000\n",
      "dtype: float64\n"
     ]
    }
   ],
   "source": [
    "Q1 = train.drop(['target'], axis=1).quantile(0.25)\n",
    "Q3 =train.drop(['target'], axis=1).quantile(0.75)\n",
    "\n",
    "IQR = Q3 - Q1\n",
    "\n",
    "\n",
    "print(IQR)\n",
    "\n",
    "\n",
    "train = train[~((train < (Q1 - 1.5 * IQR)) | (train > (Q3 + 1.5 * IQR))).any(axis=1)]"
   ]
  },
  {
   "cell_type": "code",
   "execution_count": null,
   "metadata": {},
   "outputs": [],
   "source": []
  },
  {
   "cell_type": "code",
   "execution_count": null,
   "metadata": {},
   "outputs": [],
   "source": [
    "train.shape"
   ]
  },
  {
   "cell_type": "markdown",
   "metadata": {
    "id": "2gIDFBaMs8fk"
   },
   "source": [
    "<a name=\"Modelling\"></a>\n",
    "## 12.  Modelling"
   ]
  },
  {
   "cell_type": "code",
   "execution_count": 31,
   "metadata": {
    "colab": {
     "base_uri": "https://localhost:8080/"
    },
    "id": "e3cCJUM2s4Q5",
    "outputId": "298d63e1-8389-4588-e652-b3035fd3f31b"
   },
   "outputs": [
    {
     "name": "stdout",
     "output_type": "stream",
     "text": [
      "agent                    6.00000\n",
      "branch                   1.00000\n",
      "claim_number          4572.50000\n",
      "class_of_business       24.00000\n",
      "client_type              2.00000\n",
      "loss_date_day           15.00000\n",
      "loss_date_month          6.00000\n",
      "loss_date_year           2.00000\n",
      "policy_number         2209.25000\n",
      "primary_cause            0.00000\n",
      "product                  7.00000\n",
      "renewal_frequency        1.00000\n",
      "risk_type                9.00000\n",
      "secondary_cause          3.00000\n",
      "sum_insured         413500.00000\n",
      "dtype: float64\n"
     ]
    },
    {
     "ename": "TypeError",
     "evalue": "Invalid comparison between dtype=datetime64[ns] and ndarray",
     "output_type": "error",
     "traceback": [
      "\u001b[0;31m---------------------------------------------------------------------------\u001b[0m",
      "\u001b[0;31mTypeError\u001b[0m                                 Traceback (most recent call last)",
      "File \u001b[0;32m~/Downloads/AUR/y/lib/python3.9/site-packages/pandas/core/arrays/datetimelike.py:549\u001b[0m, in \u001b[0;36mDatetimeLikeArrayMixin._validate_comparison_value\u001b[0;34m(self, other)\u001b[0m\n\u001b[1;32m    548\u001b[0m \u001b[38;5;28;01mtry\u001b[39;00m:\n\u001b[0;32m--> 549\u001b[0m     other \u001b[38;5;241m=\u001b[39m \u001b[38;5;28;43mself\u001b[39;49m\u001b[38;5;241;43m.\u001b[39;49m\u001b[43m_validate_listlike\u001b[49m\u001b[43m(\u001b[49m\u001b[43mother\u001b[49m\u001b[43m,\u001b[49m\u001b[43m \u001b[49m\u001b[43mallow_object\u001b[49m\u001b[38;5;241;43m=\u001b[39;49m\u001b[38;5;28;43;01mTrue\u001b[39;49;00m\u001b[43m)\u001b[49m\n\u001b[1;32m    550\u001b[0m     \u001b[38;5;28mself\u001b[39m\u001b[38;5;241m.\u001b[39m_check_compatible_with(other)\n",
      "File \u001b[0;32m~/Downloads/AUR/y/lib/python3.9/site-packages/pandas/core/arrays/datetimelike.py:727\u001b[0m, in \u001b[0;36mDatetimeLikeArrayMixin._validate_listlike\u001b[0;34m(self, value, allow_object)\u001b[0m\n\u001b[1;32m    726\u001b[0m     msg \u001b[38;5;241m=\u001b[39m \u001b[38;5;28mself\u001b[39m\u001b[38;5;241m.\u001b[39m_validation_error_message(value, \u001b[38;5;28;01mTrue\u001b[39;00m)\n\u001b[0;32m--> 727\u001b[0m     \u001b[38;5;28;01mraise\u001b[39;00m \u001b[38;5;167;01mTypeError\u001b[39;00m(msg)\n\u001b[1;32m    729\u001b[0m \u001b[38;5;28;01mreturn\u001b[39;00m value\n",
      "\u001b[0;31mTypeError\u001b[0m: value should be a 'Timestamp', 'NaT', or array of those. Got 'FloatingArray' instead.",
      "\nThe above exception was the direct cause of the following exception:\n",
      "\u001b[0;31mInvalidComparison\u001b[0m                         Traceback (most recent call last)",
      "File \u001b[0;32m~/Downloads/AUR/y/lib/python3.9/site-packages/pandas/core/arrays/datetimelike.py:1008\u001b[0m, in \u001b[0;36mDatetimeLikeArrayMixin._cmp_method\u001b[0;34m(self, other, op)\u001b[0m\n\u001b[1;32m   1007\u001b[0m \u001b[38;5;28;01mtry\u001b[39;00m:\n\u001b[0;32m-> 1008\u001b[0m     other \u001b[38;5;241m=\u001b[39m \u001b[38;5;28;43mself\u001b[39;49m\u001b[38;5;241;43m.\u001b[39;49m\u001b[43m_validate_comparison_value\u001b[49m\u001b[43m(\u001b[49m\u001b[43mother\u001b[49m\u001b[43m)\u001b[49m\n\u001b[1;32m   1009\u001b[0m \u001b[38;5;28;01mexcept\u001b[39;00m InvalidComparison:\n",
      "File \u001b[0;32m~/Downloads/AUR/y/lib/python3.9/site-packages/pandas/core/arrays/datetimelike.py:556\u001b[0m, in \u001b[0;36mDatetimeLikeArrayMixin._validate_comparison_value\u001b[0;34m(self, other)\u001b[0m\n\u001b[1;32m    555\u001b[0m         \u001b[38;5;28;01melse\u001b[39;00m:\n\u001b[0;32m--> 556\u001b[0m             \u001b[38;5;28;01mraise\u001b[39;00m InvalidComparison(other) \u001b[38;5;28;01mfrom\u001b[39;00m \u001b[38;5;21;01merr\u001b[39;00m\n\u001b[1;32m    558\u001b[0m \u001b[38;5;28;01mreturn\u001b[39;00m other\n",
      "\u001b[0;31mInvalidComparison\u001b[0m: [nan nan nan ... nan nan nan]",
      "\nDuring handling of the above exception, another exception occurred:\n",
      "\u001b[0;31mTypeError\u001b[0m                                 Traceback (most recent call last)",
      "Input \u001b[0;32mIn [31]\u001b[0m, in \u001b[0;36m<module>\u001b[0;34m\u001b[0m\n\u001b[1;32m      9\u001b[0m IQR \u001b[38;5;241m=\u001b[39m Q3 \u001b[38;5;241m-\u001b[39m Q1\n\u001b[1;32m     12\u001b[0m \u001b[38;5;28mprint\u001b[39m(IQR)\n\u001b[0;32m---> 15\u001b[0m train \u001b[38;5;241m=\u001b[39m train[\u001b[38;5;241m~\u001b[39m((\u001b[43mtrain\u001b[49m\u001b[43m \u001b[49m\u001b[38;5;241;43m<\u001b[39;49m\u001b[43m \u001b[49m\u001b[43m(\u001b[49m\u001b[43mQ1\u001b[49m\u001b[43m \u001b[49m\u001b[38;5;241;43m-\u001b[39;49m\u001b[43m \u001b[49m\u001b[38;5;241;43m1.5\u001b[39;49m\u001b[43m \u001b[49m\u001b[38;5;241;43m*\u001b[39;49m\u001b[43m \u001b[49m\u001b[43mIQR\u001b[49m\u001b[43m)\u001b[49m) \u001b[38;5;241m|\u001b[39m (train \u001b[38;5;241m>\u001b[39m (Q3 \u001b[38;5;241m+\u001b[39m \u001b[38;5;241m1.5\u001b[39m \u001b[38;5;241m*\u001b[39m IQR)))\u001b[38;5;241m.\u001b[39many(axis\u001b[38;5;241m=\u001b[39m\u001b[38;5;241m1\u001b[39m)]\n\u001b[1;32m     17\u001b[0m \u001b[38;5;66;03m# Split data into train and test sets\u001b[39;00m\n\u001b[1;32m     18\u001b[0m X_train, X_test, y_train, y_test \u001b[38;5;241m=\u001b[39m train_test_split(X,y,test_size\u001b[38;5;241m=\u001b[39m\u001b[38;5;241m0.1\u001b[39m, random_state\u001b[38;5;241m=\u001b[39m\u001b[38;5;241m42\u001b[39m)\n",
      "File \u001b[0;32m~/Downloads/AUR/y/lib/python3.9/site-packages/pandas/core/ops/common.py:70\u001b[0m, in \u001b[0;36m_unpack_zerodim_and_defer.<locals>.new_method\u001b[0;34m(self, other)\u001b[0m\n\u001b[1;32m     66\u001b[0m             \u001b[38;5;28;01mreturn\u001b[39;00m \u001b[38;5;28mNotImplemented\u001b[39m\n\u001b[1;32m     68\u001b[0m other \u001b[38;5;241m=\u001b[39m item_from_zerodim(other)\n\u001b[0;32m---> 70\u001b[0m \u001b[38;5;28;01mreturn\u001b[39;00m \u001b[43mmethod\u001b[49m\u001b[43m(\u001b[49m\u001b[38;5;28;43mself\u001b[39;49m\u001b[43m,\u001b[49m\u001b[43m \u001b[49m\u001b[43mother\u001b[49m\u001b[43m)\u001b[49m\n",
      "File \u001b[0;32m~/Downloads/AUR/y/lib/python3.9/site-packages/pandas/core/arraylike.py:48\u001b[0m, in \u001b[0;36mOpsMixin.__lt__\u001b[0;34m(self, other)\u001b[0m\n\u001b[1;32m     46\u001b[0m \u001b[38;5;129m@unpack_zerodim_and_defer\u001b[39m(\u001b[38;5;124m\"\u001b[39m\u001b[38;5;124m__lt__\u001b[39m\u001b[38;5;124m\"\u001b[39m)\n\u001b[1;32m     47\u001b[0m \u001b[38;5;28;01mdef\u001b[39;00m \u001b[38;5;21m__lt__\u001b[39m(\u001b[38;5;28mself\u001b[39m, other):\n\u001b[0;32m---> 48\u001b[0m     \u001b[38;5;28;01mreturn\u001b[39;00m \u001b[38;5;28;43mself\u001b[39;49m\u001b[38;5;241;43m.\u001b[39;49m\u001b[43m_cmp_method\u001b[49m\u001b[43m(\u001b[49m\u001b[43mother\u001b[49m\u001b[43m,\u001b[49m\u001b[43m \u001b[49m\u001b[43moperator\u001b[49m\u001b[38;5;241;43m.\u001b[39;49m\u001b[43mlt\u001b[49m\u001b[43m)\u001b[49m\n",
      "File \u001b[0;32m~/Downloads/AUR/y/lib/python3.9/site-packages/pandas/core/frame.py:6928\u001b[0m, in \u001b[0;36mDataFrame._cmp_method\u001b[0;34m(self, other, op)\u001b[0m\n\u001b[1;32m   6925\u001b[0m \u001b[38;5;28mself\u001b[39m, other \u001b[38;5;241m=\u001b[39m ops\u001b[38;5;241m.\u001b[39malign_method_FRAME(\u001b[38;5;28mself\u001b[39m, other, axis, flex\u001b[38;5;241m=\u001b[39m\u001b[38;5;28;01mFalse\u001b[39;00m, level\u001b[38;5;241m=\u001b[39m\u001b[38;5;28;01mNone\u001b[39;00m)\n\u001b[1;32m   6927\u001b[0m \u001b[38;5;66;03m# See GH#4537 for discussion of scalar op behavior\u001b[39;00m\n\u001b[0;32m-> 6928\u001b[0m new_data \u001b[38;5;241m=\u001b[39m \u001b[38;5;28;43mself\u001b[39;49m\u001b[38;5;241;43m.\u001b[39;49m\u001b[43m_dispatch_frame_op\u001b[49m\u001b[43m(\u001b[49m\u001b[43mother\u001b[49m\u001b[43m,\u001b[49m\u001b[43m \u001b[49m\u001b[43mop\u001b[49m\u001b[43m,\u001b[49m\u001b[43m \u001b[49m\u001b[43maxis\u001b[49m\u001b[38;5;241;43m=\u001b[39;49m\u001b[43maxis\u001b[49m\u001b[43m)\u001b[49m\n\u001b[1;32m   6929\u001b[0m \u001b[38;5;28;01mreturn\u001b[39;00m \u001b[38;5;28mself\u001b[39m\u001b[38;5;241m.\u001b[39m_construct_result(new_data)\n",
      "File \u001b[0;32m~/Downloads/AUR/y/lib/python3.9/site-packages/pandas/core/frame.py:6979\u001b[0m, in \u001b[0;36mDataFrame._dispatch_frame_op\u001b[0;34m(self, right, func, axis)\u001b[0m\n\u001b[1;32m   6973\u001b[0m     \u001b[38;5;66;03m# TODO: The previous assertion `assert right._indexed_same(self)`\u001b[39;00m\n\u001b[1;32m   6974\u001b[0m     \u001b[38;5;66;03m#  fails in cases with empty columns reached via\u001b[39;00m\n\u001b[1;32m   6975\u001b[0m     \u001b[38;5;66;03m#  _frame_arith_method_with_reindex\u001b[39;00m\n\u001b[1;32m   6976\u001b[0m \n\u001b[1;32m   6977\u001b[0m     \u001b[38;5;66;03m# TODO operate_blockwise expects a manager of the same type\u001b[39;00m\n\u001b[1;32m   6978\u001b[0m     \u001b[38;5;28;01mwith\u001b[39;00m np\u001b[38;5;241m.\u001b[39merrstate(\u001b[38;5;28mall\u001b[39m\u001b[38;5;241m=\u001b[39m\u001b[38;5;124m\"\u001b[39m\u001b[38;5;124mignore\u001b[39m\u001b[38;5;124m\"\u001b[39m):\n\u001b[0;32m-> 6979\u001b[0m         bm \u001b[38;5;241m=\u001b[39m \u001b[38;5;28;43mself\u001b[39;49m\u001b[38;5;241;43m.\u001b[39;49m\u001b[43m_mgr\u001b[49m\u001b[38;5;241;43m.\u001b[39;49m\u001b[43moperate_blockwise\u001b[49m\u001b[43m(\u001b[49m\n\u001b[1;32m   6980\u001b[0m \u001b[43m            \u001b[49m\u001b[38;5;66;43;03m# error: Argument 1 to \"operate_blockwise\" of \"ArrayManager\" has\u001b[39;49;00m\n\u001b[1;32m   6981\u001b[0m \u001b[43m            \u001b[49m\u001b[38;5;66;43;03m# incompatible type \"Union[ArrayManager, BlockManager]\"; expected\u001b[39;49;00m\n\u001b[1;32m   6982\u001b[0m \u001b[43m            \u001b[49m\u001b[38;5;66;43;03m# \"ArrayManager\"\u001b[39;49;00m\n\u001b[1;32m   6983\u001b[0m \u001b[43m            \u001b[49m\u001b[38;5;66;43;03m# error: Argument 1 to \"operate_blockwise\" of \"BlockManager\" has\u001b[39;49;00m\n\u001b[1;32m   6984\u001b[0m \u001b[43m            \u001b[49m\u001b[38;5;66;43;03m# incompatible type \"Union[ArrayManager, BlockManager]\"; expected\u001b[39;49;00m\n\u001b[1;32m   6985\u001b[0m \u001b[43m            \u001b[49m\u001b[38;5;66;43;03m# \"BlockManager\"\u001b[39;49;00m\n\u001b[1;32m   6986\u001b[0m \u001b[43m            \u001b[49m\u001b[43mright\u001b[49m\u001b[38;5;241;43m.\u001b[39;49m\u001b[43m_mgr\u001b[49m\u001b[43m,\u001b[49m\u001b[43m  \u001b[49m\u001b[38;5;66;43;03m# type: ignore[arg-type]\u001b[39;49;00m\n\u001b[1;32m   6987\u001b[0m \u001b[43m            \u001b[49m\u001b[43marray_op\u001b[49m\u001b[43m,\u001b[49m\n\u001b[1;32m   6988\u001b[0m \u001b[43m        \u001b[49m\u001b[43m)\u001b[49m\n\u001b[1;32m   6989\u001b[0m     \u001b[38;5;28;01mreturn\u001b[39;00m \u001b[38;5;28mself\u001b[39m\u001b[38;5;241m.\u001b[39m_constructor(bm)\n\u001b[1;32m   6991\u001b[0m \u001b[38;5;28;01melif\u001b[39;00m \u001b[38;5;28misinstance\u001b[39m(right, Series) \u001b[38;5;129;01mand\u001b[39;00m axis \u001b[38;5;241m==\u001b[39m \u001b[38;5;241m1\u001b[39m:\n\u001b[1;32m   6992\u001b[0m     \u001b[38;5;66;03m# axis=1 means we want to operate row-by-row\u001b[39;00m\n",
      "File \u001b[0;32m~/Downloads/AUR/y/lib/python3.9/site-packages/pandas/core/internals/managers.py:1409\u001b[0m, in \u001b[0;36mBlockManager.operate_blockwise\u001b[0;34m(self, other, array_op)\u001b[0m\n\u001b[1;32m   1405\u001b[0m \u001b[38;5;28;01mdef\u001b[39;00m \u001b[38;5;21moperate_blockwise\u001b[39m(\u001b[38;5;28mself\u001b[39m, other: BlockManager, array_op) \u001b[38;5;241m-\u001b[39m\u001b[38;5;241m>\u001b[39m BlockManager:\n\u001b[1;32m   1406\u001b[0m     \u001b[38;5;124;03m\"\"\"\u001b[39;00m\n\u001b[1;32m   1407\u001b[0m \u001b[38;5;124;03m    Apply array_op blockwise with another (aligned) BlockManager.\u001b[39;00m\n\u001b[1;32m   1408\u001b[0m \u001b[38;5;124;03m    \"\"\"\u001b[39;00m\n\u001b[0;32m-> 1409\u001b[0m     \u001b[38;5;28;01mreturn\u001b[39;00m \u001b[43moperate_blockwise\u001b[49m\u001b[43m(\u001b[49m\u001b[38;5;28;43mself\u001b[39;49m\u001b[43m,\u001b[49m\u001b[43m \u001b[49m\u001b[43mother\u001b[49m\u001b[43m,\u001b[49m\u001b[43m \u001b[49m\u001b[43marray_op\u001b[49m\u001b[43m)\u001b[49m\n",
      "File \u001b[0;32m~/Downloads/AUR/y/lib/python3.9/site-packages/pandas/core/internals/ops.py:63\u001b[0m, in \u001b[0;36moperate_blockwise\u001b[0;34m(left, right, array_op)\u001b[0m\n\u001b[1;32m     61\u001b[0m res_blks: \u001b[38;5;28mlist\u001b[39m[Block] \u001b[38;5;241m=\u001b[39m []\n\u001b[1;32m     62\u001b[0m \u001b[38;5;28;01mfor\u001b[39;00m lvals, rvals, locs, left_ea, right_ea, rblk \u001b[38;5;129;01min\u001b[39;00m _iter_block_pairs(left, right):\n\u001b[0;32m---> 63\u001b[0m     res_values \u001b[38;5;241m=\u001b[39m \u001b[43marray_op\u001b[49m\u001b[43m(\u001b[49m\u001b[43mlvals\u001b[49m\u001b[43m,\u001b[49m\u001b[43m \u001b[49m\u001b[43mrvals\u001b[49m\u001b[43m)\u001b[49m\n\u001b[1;32m     64\u001b[0m     \u001b[38;5;28;01mif\u001b[39;00m left_ea \u001b[38;5;129;01mand\u001b[39;00m \u001b[38;5;129;01mnot\u001b[39;00m right_ea \u001b[38;5;129;01mand\u001b[39;00m \u001b[38;5;28mhasattr\u001b[39m(res_values, \u001b[38;5;124m\"\u001b[39m\u001b[38;5;124mreshape\u001b[39m\u001b[38;5;124m\"\u001b[39m):\n\u001b[1;32m     65\u001b[0m         res_values \u001b[38;5;241m=\u001b[39m res_values\u001b[38;5;241m.\u001b[39mreshape(\u001b[38;5;241m1\u001b[39m, \u001b[38;5;241m-\u001b[39m\u001b[38;5;241m1\u001b[39m)\n",
      "File \u001b[0;32m~/Downloads/AUR/y/lib/python3.9/site-packages/pandas/core/ops/array_ops.py:269\u001b[0m, in \u001b[0;36mcomparison_op\u001b[0;34m(left, right, op)\u001b[0m\n\u001b[1;32m    260\u001b[0m         \u001b[38;5;28;01mraise\u001b[39;00m \u001b[38;5;167;01mValueError\u001b[39;00m(\n\u001b[1;32m    261\u001b[0m             \u001b[38;5;124m\"\u001b[39m\u001b[38;5;124mLengths must match to compare\u001b[39m\u001b[38;5;124m\"\u001b[39m, lvalues\u001b[38;5;241m.\u001b[39mshape, rvalues\u001b[38;5;241m.\u001b[39mshape\n\u001b[1;32m    262\u001b[0m         )\n\u001b[1;32m    264\u001b[0m \u001b[38;5;28;01mif\u001b[39;00m should_extension_dispatch(lvalues, rvalues) \u001b[38;5;129;01mor\u001b[39;00m (\n\u001b[1;32m    265\u001b[0m     (\u001b[38;5;28misinstance\u001b[39m(rvalues, (Timedelta, BaseOffset, Timestamp)) \u001b[38;5;129;01mor\u001b[39;00m right \u001b[38;5;129;01mis\u001b[39;00m NaT)\n\u001b[1;32m    266\u001b[0m     \u001b[38;5;129;01mand\u001b[39;00m \u001b[38;5;129;01mnot\u001b[39;00m is_object_dtype(lvalues\u001b[38;5;241m.\u001b[39mdtype)\n\u001b[1;32m    267\u001b[0m ):\n\u001b[1;32m    268\u001b[0m     \u001b[38;5;66;03m# Call the method on lvalues\u001b[39;00m\n\u001b[0;32m--> 269\u001b[0m     res_values \u001b[38;5;241m=\u001b[39m \u001b[43mop\u001b[49m\u001b[43m(\u001b[49m\u001b[43mlvalues\u001b[49m\u001b[43m,\u001b[49m\u001b[43m \u001b[49m\u001b[43mrvalues\u001b[49m\u001b[43m)\u001b[49m\n\u001b[1;32m    271\u001b[0m \u001b[38;5;28;01melif\u001b[39;00m is_scalar(rvalues) \u001b[38;5;129;01mand\u001b[39;00m isna(rvalues):  \u001b[38;5;66;03m# TODO: but not pd.NA?\u001b[39;00m\n\u001b[1;32m    272\u001b[0m     \u001b[38;5;66;03m# numpy does not like comparisons vs None\u001b[39;00m\n\u001b[1;32m    273\u001b[0m     \u001b[38;5;28;01mif\u001b[39;00m op \u001b[38;5;129;01mis\u001b[39;00m operator\u001b[38;5;241m.\u001b[39mne:\n",
      "File \u001b[0;32m~/Downloads/AUR/y/lib/python3.9/site-packages/pandas/core/ops/common.py:70\u001b[0m, in \u001b[0;36m_unpack_zerodim_and_defer.<locals>.new_method\u001b[0;34m(self, other)\u001b[0m\n\u001b[1;32m     66\u001b[0m             \u001b[38;5;28;01mreturn\u001b[39;00m \u001b[38;5;28mNotImplemented\u001b[39m\n\u001b[1;32m     68\u001b[0m other \u001b[38;5;241m=\u001b[39m item_from_zerodim(other)\n\u001b[0;32m---> 70\u001b[0m \u001b[38;5;28;01mreturn\u001b[39;00m \u001b[43mmethod\u001b[49m\u001b[43m(\u001b[49m\u001b[38;5;28;43mself\u001b[39;49m\u001b[43m,\u001b[49m\u001b[43m \u001b[49m\u001b[43mother\u001b[49m\u001b[43m)\u001b[49m\n",
      "File \u001b[0;32m~/Downloads/AUR/y/lib/python3.9/site-packages/pandas/core/arraylike.py:48\u001b[0m, in \u001b[0;36mOpsMixin.__lt__\u001b[0;34m(self, other)\u001b[0m\n\u001b[1;32m     46\u001b[0m \u001b[38;5;129m@unpack_zerodim_and_defer\u001b[39m(\u001b[38;5;124m\"\u001b[39m\u001b[38;5;124m__lt__\u001b[39m\u001b[38;5;124m\"\u001b[39m)\n\u001b[1;32m     47\u001b[0m \u001b[38;5;28;01mdef\u001b[39;00m \u001b[38;5;21m__lt__\u001b[39m(\u001b[38;5;28mself\u001b[39m, other):\n\u001b[0;32m---> 48\u001b[0m     \u001b[38;5;28;01mreturn\u001b[39;00m \u001b[38;5;28;43mself\u001b[39;49m\u001b[38;5;241;43m.\u001b[39;49m\u001b[43m_cmp_method\u001b[49m\u001b[43m(\u001b[49m\u001b[43mother\u001b[49m\u001b[43m,\u001b[49m\u001b[43m \u001b[49m\u001b[43moperator\u001b[49m\u001b[38;5;241;43m.\u001b[39;49m\u001b[43mlt\u001b[49m\u001b[43m)\u001b[49m\n",
      "File \u001b[0;32m~/Downloads/AUR/y/lib/python3.9/site-packages/pandas/core/arrays/datetimelike.py:1005\u001b[0m, in \u001b[0;36mDatetimeLikeArrayMixin._cmp_method\u001b[0;34m(self, other, op)\u001b[0m\n\u001b[1;32m   1002\u001b[0m \u001b[38;5;28;01mdef\u001b[39;00m \u001b[38;5;21m_cmp_method\u001b[39m(\u001b[38;5;28mself\u001b[39m, other, op):\n\u001b[1;32m   1003\u001b[0m     \u001b[38;5;28;01mif\u001b[39;00m \u001b[38;5;28mself\u001b[39m\u001b[38;5;241m.\u001b[39mndim \u001b[38;5;241m>\u001b[39m \u001b[38;5;241m1\u001b[39m \u001b[38;5;129;01mand\u001b[39;00m \u001b[38;5;28mgetattr\u001b[39m(other, \u001b[38;5;124m\"\u001b[39m\u001b[38;5;124mshape\u001b[39m\u001b[38;5;124m\"\u001b[39m, \u001b[38;5;28;01mNone\u001b[39;00m) \u001b[38;5;241m==\u001b[39m \u001b[38;5;28mself\u001b[39m\u001b[38;5;241m.\u001b[39mshape:\n\u001b[1;32m   1004\u001b[0m         \u001b[38;5;66;03m# TODO: handle 2D-like listlikes\u001b[39;00m\n\u001b[0;32m-> 1005\u001b[0m         \u001b[38;5;28;01mreturn\u001b[39;00m \u001b[43mop\u001b[49m\u001b[43m(\u001b[49m\u001b[38;5;28;43mself\u001b[39;49m\u001b[38;5;241;43m.\u001b[39;49m\u001b[43mravel\u001b[49m\u001b[43m(\u001b[49m\u001b[43m)\u001b[49m\u001b[43m,\u001b[49m\u001b[43m \u001b[49m\u001b[43mother\u001b[49m\u001b[38;5;241;43m.\u001b[39;49m\u001b[43mravel\u001b[49m\u001b[43m(\u001b[49m\u001b[43m)\u001b[49m\u001b[43m)\u001b[49m\u001b[38;5;241m.\u001b[39mreshape(\u001b[38;5;28mself\u001b[39m\u001b[38;5;241m.\u001b[39mshape)\n\u001b[1;32m   1007\u001b[0m     \u001b[38;5;28;01mtry\u001b[39;00m:\n\u001b[1;32m   1008\u001b[0m         other \u001b[38;5;241m=\u001b[39m \u001b[38;5;28mself\u001b[39m\u001b[38;5;241m.\u001b[39m_validate_comparison_value(other)\n",
      "File \u001b[0;32m~/Downloads/AUR/y/lib/python3.9/site-packages/pandas/core/ops/common.py:70\u001b[0m, in \u001b[0;36m_unpack_zerodim_and_defer.<locals>.new_method\u001b[0;34m(self, other)\u001b[0m\n\u001b[1;32m     66\u001b[0m             \u001b[38;5;28;01mreturn\u001b[39;00m \u001b[38;5;28mNotImplemented\u001b[39m\n\u001b[1;32m     68\u001b[0m other \u001b[38;5;241m=\u001b[39m item_from_zerodim(other)\n\u001b[0;32m---> 70\u001b[0m \u001b[38;5;28;01mreturn\u001b[39;00m \u001b[43mmethod\u001b[49m\u001b[43m(\u001b[49m\u001b[38;5;28;43mself\u001b[39;49m\u001b[43m,\u001b[49m\u001b[43m \u001b[49m\u001b[43mother\u001b[49m\u001b[43m)\u001b[49m\n",
      "File \u001b[0;32m~/Downloads/AUR/y/lib/python3.9/site-packages/pandas/core/arraylike.py:48\u001b[0m, in \u001b[0;36mOpsMixin.__lt__\u001b[0;34m(self, other)\u001b[0m\n\u001b[1;32m     46\u001b[0m \u001b[38;5;129m@unpack_zerodim_and_defer\u001b[39m(\u001b[38;5;124m\"\u001b[39m\u001b[38;5;124m__lt__\u001b[39m\u001b[38;5;124m\"\u001b[39m)\n\u001b[1;32m     47\u001b[0m \u001b[38;5;28;01mdef\u001b[39;00m \u001b[38;5;21m__lt__\u001b[39m(\u001b[38;5;28mself\u001b[39m, other):\n\u001b[0;32m---> 48\u001b[0m     \u001b[38;5;28;01mreturn\u001b[39;00m \u001b[38;5;28;43mself\u001b[39;49m\u001b[38;5;241;43m.\u001b[39;49m\u001b[43m_cmp_method\u001b[49m\u001b[43m(\u001b[49m\u001b[43mother\u001b[49m\u001b[43m,\u001b[49m\u001b[43m \u001b[49m\u001b[43moperator\u001b[49m\u001b[38;5;241;43m.\u001b[39;49m\u001b[43mlt\u001b[49m\u001b[43m)\u001b[49m\n",
      "File \u001b[0;32m~/Downloads/AUR/y/lib/python3.9/site-packages/pandas/core/arrays/datetimelike.py:1010\u001b[0m, in \u001b[0;36mDatetimeLikeArrayMixin._cmp_method\u001b[0;34m(self, other, op)\u001b[0m\n\u001b[1;32m   1008\u001b[0m     other \u001b[38;5;241m=\u001b[39m \u001b[38;5;28mself\u001b[39m\u001b[38;5;241m.\u001b[39m_validate_comparison_value(other)\n\u001b[1;32m   1009\u001b[0m \u001b[38;5;28;01mexcept\u001b[39;00m InvalidComparison:\n\u001b[0;32m-> 1010\u001b[0m     \u001b[38;5;28;01mreturn\u001b[39;00m \u001b[43minvalid_comparison\u001b[49m\u001b[43m(\u001b[49m\u001b[38;5;28;43mself\u001b[39;49m\u001b[43m,\u001b[49m\u001b[43m \u001b[49m\u001b[43mother\u001b[49m\u001b[43m,\u001b[49m\u001b[43m \u001b[49m\u001b[43mop\u001b[49m\u001b[43m)\u001b[49m\n\u001b[1;32m   1012\u001b[0m dtype \u001b[38;5;241m=\u001b[39m \u001b[38;5;28mgetattr\u001b[39m(other, \u001b[38;5;124m\"\u001b[39m\u001b[38;5;124mdtype\u001b[39m\u001b[38;5;124m\"\u001b[39m, \u001b[38;5;28;01mNone\u001b[39;00m)\n\u001b[1;32m   1013\u001b[0m \u001b[38;5;28;01mif\u001b[39;00m is_object_dtype(dtype):\n\u001b[1;32m   1014\u001b[0m     \u001b[38;5;66;03m# We have to use comp_method_OBJECT_ARRAY instead of numpy\u001b[39;00m\n\u001b[1;32m   1015\u001b[0m     \u001b[38;5;66;03m#  comparison otherwise it would fail to raise when\u001b[39;00m\n\u001b[1;32m   1016\u001b[0m     \u001b[38;5;66;03m#  comparing tz-aware and tz-naive\u001b[39;00m\n",
      "File \u001b[0;32m~/Downloads/AUR/y/lib/python3.9/site-packages/pandas/core/ops/invalid.py:34\u001b[0m, in \u001b[0;36minvalid_comparison\u001b[0;34m(left, right, op)\u001b[0m\n\u001b[1;32m     32\u001b[0m \u001b[38;5;28;01melse\u001b[39;00m:\n\u001b[1;32m     33\u001b[0m     typ \u001b[38;5;241m=\u001b[39m \u001b[38;5;28mtype\u001b[39m(right)\u001b[38;5;241m.\u001b[39m\u001b[38;5;18m__name__\u001b[39m\n\u001b[0;32m---> 34\u001b[0m     \u001b[38;5;28;01mraise\u001b[39;00m \u001b[38;5;167;01mTypeError\u001b[39;00m(\u001b[38;5;124mf\u001b[39m\u001b[38;5;124m\"\u001b[39m\u001b[38;5;124mInvalid comparison between dtype=\u001b[39m\u001b[38;5;132;01m{\u001b[39;00mleft\u001b[38;5;241m.\u001b[39mdtype\u001b[38;5;132;01m}\u001b[39;00m\u001b[38;5;124m and \u001b[39m\u001b[38;5;132;01m{\u001b[39;00mtyp\u001b[38;5;132;01m}\u001b[39;00m\u001b[38;5;124m\"\u001b[39m)\n\u001b[1;32m     35\u001b[0m \u001b[38;5;28;01mreturn\u001b[39;00m res_values\n",
      "\u001b[0;31mTypeError\u001b[0m: Invalid comparison between dtype=datetime64[ns] and ndarray"
     ]
    }
   ],
   "source": [
    "# Select main columns to be used in training\n",
    "main_cols = train.columns.difference(['claim_id', 'loss_date', 'target']).tolist()\n",
    "X = train[main_cols]\n",
    "y = train.target\n",
    "\n",
    "Q1 = X.quantile(0.25)\n",
    "Q3 =X.quantile(0.75)\n",
    "\n",
    "IQR = Q3 - Q1\n",
    "\n",
    "\n",
    "print(IQR)\n",
    "\n",
    "\n",
    "train = train[~((train < (Q1 - 1.5 * IQR)) | (train > (Q3 + 1.5 * IQR))).any(axis=1)]\n",
    "\n",
    "# Split data into train and test sets\n",
    "X_train, X_test, y_train, y_test = train_test_split(X,y,test_size=0.1, random_state=42)\n",
    "\n",
    "# feature scalling\n",
    "\n",
    "scale = StandardScaler()\n",
    "X_train = scale.fit_transform(X_train)\n",
    "X_test = scale.transform(X_test)\n",
    "\n",
    "\n",
    "# Train model\n",
    "model = CatBoostRegressor(verbose=0,)\n",
    "model.fit(X_train, y_train)\n",
    "\n",
    "# Make predictions\n",
    "y_pred = model.predict(X_test)\n",
    "\n",
    "# Check the MAE score of the model\n",
    "print(f'LinearRegression MAE score on the X_test is: {mean_absolute_error(y_test, y_pred)}')"
   ]
  },
  {
   "cell_type": "markdown",
   "metadata": {
    "id": "7UuShmECwAbL"
   },
   "source": [
    "<a name=\"Predictions\"></a>\n",
    "## 13. Making predictions of the test set and creating a submission file"
   ]
  },
  {
   "cell_type": "code",
   "execution_count": null,
   "metadata": {
    "colab": {
     "base_uri": "https://localhost:8080/",
     "height": 404
    },
    "id": "xJo1lD5cs4MM",
    "outputId": "71ac2d7c-5b07-447a-e843-f8874492013b"
   },
   "outputs": [],
   "source": [
    "# Make prediction on the test set\n",
    "test_df = test[main_cols]\n",
    "\n",
    "test_df = scale.transform(test_df)\n",
    "predictions = model.predict(test_df)\n",
    "\n",
    "# # Create a submission file\n",
    "sub_file = samplesubmission.copy()\n",
    "sub_file.target = predictions\n",
    "\n",
    "# Check the distribution of your predictions\n",
    "plt.figure(figsize=(12, 6))\n",
    "sns.boxplot(sub_file.target)\n",
    "plt.title('Predictions Data Distribution');"
   ]
  },
  {
   "cell_type": "markdown",
   "metadata": {
    "id": "qTjjKQchqRVq"
   },
   "source": [
    " - There are some outliers in our predictions. \n",
    " - More inspection/data preprocessing is needed"
   ]
  },
  {
   "cell_type": "code",
   "execution_count": null,
   "metadata": {
    "colab": {
     "base_uri": "https://localhost:8080/",
     "height": 206
    },
    "id": "OvzrU6nms4Jw",
    "outputId": "a46b0ebb-8d2b-4430-db52-0c321d0a7bb1"
   },
   "outputs": [],
   "source": [
    "# Preview the sub_file\n",
    "sub_file.head()"
   ]
  },
  {
   "cell_type": "code",
   "execution_count": null,
   "metadata": {
    "id": "orThwtMX1oNm"
   },
   "outputs": [],
   "source": [
    "# Write to csv file to submit to Zindi\n",
    "sub_file.to_csv(\"Baseline.csv\", index = False)"
   ]
  },
  {
   "cell_type": "markdown",
   "metadata": {
    "id": "QKXXj1Yh4-ZK"
   },
   "source": [
    "<a name=\"Tips\"></a>\n",
    "## 1. More Tips\n",
    "- Use more data - policies data\n",
    "- Thorough EDA and domain knowledge sourcing\n",
    "- Re-group Categorical features \n",
    "- More Feature Engineering \n",
    "- Ensembl4ing of models \n",
    "- Cross-validation: Group folds, Stratified..."
   ]
  },
  {
   "cell_type": "markdown",
   "metadata": {
    "id": "k_BBwmW05HAR"
   },
   "source": [
    "# ******************* HAPPY HACKING ***************************"
   ]
  }
 ],
 "metadata": {
  "colab": {
   "collapsed_sections": [],
   "name": "Zimnat_starternotebook.ipynb",
   "provenance": []
  },
  "kernelspec": {
   "display_name": "Python 3 (ipykernel)",
   "language": "python",
   "name": "python3"
  },
  "language_info": {
   "codemirror_mode": {
    "name": "ipython",
    "version": 3
   },
   "file_extension": ".py",
   "mimetype": "text/x-python",
   "name": "python",
   "nbconvert_exporter": "python",
   "pygments_lexer": "ipython3",
   "version": "3.9.5"
  }
 },
 "nbformat": 4,
 "nbformat_minor": 4
}
