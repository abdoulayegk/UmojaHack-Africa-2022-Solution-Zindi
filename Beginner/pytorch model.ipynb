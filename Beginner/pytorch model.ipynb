{
 "cells": [
  {
   "cell_type": "code",
   "execution_count": null,
   "id": "3f9d2e74-0bd0-4b3d-a00f-99f8ec6c75a5",
   "metadata": {},
   "outputs": [],
   "source": [
    "import random\n",
    "import warnings\n",
    "\n",
    "import matplotlib.pyplot as plt\n",
    "import missingno as mn\n",
    "import numpy as np\n",
    "import pandas as pd\n",
    "import seaborn as sns\n",
    "import torch\n",
    "import torch.nn as nn\n",
    "import torch.nn.functional as F\n",
    "from sklearn.impute import SimpleImputer\n",
    "from sklearn.metrics import accuracy_score\n",
    "from sklearn.model_selection import KFold, StratifiedKFold, train_test_split\n",
    "from sklearn.pipeline import Pipeline\n",
    "from sklearn.preprocessing import StandardScaler\n",
    "from torch import optim\n",
    "from tqdm import tqdm\n",
    "\n",
    "RANDOM_SEED = 42\n",
    "\n",
    "np.random.seed(RANDOM_SEED)\n",
    "\n",
    "torch.manual_seed(RANDOM_SEED)\n",
    "warnings.filterwarnings('ignore')"
   ]
  },
  {
   "cell_type": "code",
   "execution_count": null,
   "id": "5fb2088c-97d0-4466-a7e9-8b71c27ddf6e",
   "metadata": {},
   "outputs": [],
   "source": [
    "train = pd.read_csv('train.csv')\n",
    "test = pd.read_csv('test.csv')\n",
    "ss = pd.read_csv('SampleSubmission.csv')"
   ]
  },
  {
   "cell_type": "code",
   "execution_count": null,
   "id": "f4c691b2-c86d-4e42-97ab-3b7b4acd3ff6",
   "metadata": {},
   "outputs": [],
   "source": [
    "train.head()"
   ]
  },
  {
   "cell_type": "code",
   "execution_count": null,
   "id": "a55554da-d3c9-4093-9111-52df375407b8",
   "metadata": {},
   "outputs": [],
   "source": [
    "test.head()"
   ]
  },
  {
   "cell_type": "code",
   "execution_count": null,
   "id": "f9ba592a-5cc9-451a-9ec8-5b355708f426",
   "metadata": {},
   "outputs": [],
   "source": [
    "ss.head()"
   ]
  },
  {
   "cell_type": "code",
   "execution_count": null,
   "id": "3cc0f377-beea-4ad2-8df4-eba6317c00b9",
   "metadata": {},
   "outputs": [],
   "source": [
    "train.info()"
   ]
  },
  {
   "cell_type": "code",
   "execution_count": null,
   "id": "42ea6cc8-3810-4c4b-955b-e188f0776b32",
   "metadata": {},
   "outputs": [],
   "source": [
    "test.info()"
   ]
  },
  {
   "cell_type": "code",
   "execution_count": null,
   "id": "ac09fd81-134c-4a21-a98e-819cee2adba9",
   "metadata": {},
   "outputs": [],
   "source": [
    "mn.matrix(train)"
   ]
  },
  {
   "cell_type": "code",
   "execution_count": null,
   "id": "dd9aaa9b-22ea-4735-82db-147da600fc87",
   "metadata": {},
   "outputs": [],
   "source": []
  },
  {
   "cell_type": "code",
   "execution_count": null,
   "id": "e2e2d358-f6cc-4381-81ec-c01f4bb530bb",
   "metadata": {},
   "outputs": [],
   "source": [
    "train = train.drop('ID',axis=1)\n",
    "test = test.drop('ID',axis=1)"
   ]
  },
  {
   "cell_type": "code",
   "execution_count": null,
   "id": "c42c2a9c-469d-49fe-ba73-b4c6fa4931e1",
   "metadata": {},
   "outputs": [],
   "source": [
    "train.loc[:, 'Sensor1_PM2.5':'Offset_fault'].describe().T.style.bar(subset=['mean'], color='#206ff2')\\\n",
    "                            .background_gradient(subset=['std'], cmap='Reds')\\\n",
    "                            .background_gradient(subset=['50%'], cmap='coolwarm')"
   ]
  },
  {
   "cell_type": "code",
   "execution_count": null,
   "id": "84a029d1-e567-466b-ae4c-16cb1ed1cefa",
   "metadata": {},
   "outputs": [],
   "source": [
    "### Now let's visualize \n",
    "sns.countplot(train.Offset_fault)"
   ]
  },
  {
   "cell_type": "code",
   "execution_count": null,
   "id": "836abe05-d395-42df-8a69-862858cc7e0e",
   "metadata": {},
   "outputs": [],
   "source": [
    "# Extract day, month year and hour from the Datetime column\n",
    "# day\n",
    "def converte_dates(df):\n",
    "    \n",
    "    df['Datetime'] = pd.to_datetime(df['Datetime'])\n",
    "    \n",
    "    #\n",
    "    df['Datetime_day'] = df.Datetime.dt.day\n",
    "\n",
    "    # month\n",
    "    df['Datetime_month'] = df.Datetime.dt.month\n",
    "\n",
    "    # year\n",
    "    df['Datetime_year'] = df.Datetime.dt.year\n",
    "\n",
    "    # hour\n",
    "    df['Datetime_hour'] = df.Datetime.dt.hour\n",
    "    \n",
    "    # minute\n",
    "    df['Datetime_minute'] = df.Datetime.dt.minute\n",
    "    \n",
    "    # day of week\n",
    "    df['Datetime_dayofweek'] = df.Datetime.dt.weekday\n",
    "    \n",
    "    \n",
    "    return df\n",
    "\n",
    "\n",
    "train = converte_dates(train)\n",
    "test = converte_dates(test)"
   ]
  },
  {
   "cell_type": "code",
   "execution_count": null,
   "id": "0ab44f97-165f-441c-8ce7-b8407be71c28",
   "metadata": {},
   "outputs": [],
   "source": [
    "def more_features(df):\n",
    "    df['is_morning'] = (6 <= df['Datetime_hour']) & (df['Datetime_hour'] < 12)#.median()\n",
    "    df['is_afternoon'] = (12 <= df['Datetime_hour']) & (df['Datetime_hour'] < 18)#.median()\n",
    "    df['is_evening'] = (18 <= df['Datetime_hour']) & (df['Datetime_hour'] <= 23)#.median()\n",
    "    df['is_night'] = (0 <= df['Datetime_hour']) & (df['Datetime_hour'] < 6)#.median()\n",
    "    return df\n",
    "\n",
    "\n",
    "train = more_features(train)\n",
    "test = more_features(test)"
   ]
  },
  {
   "cell_type": "code",
   "execution_count": null,
   "id": "35c175e4-3140-44db-90fc-ad281e612785",
   "metadata": {},
   "outputs": [],
   "source": [
    "corr = train.corr()\n",
    "corr.style.background_gradient()"
   ]
  },
  {
   "cell_type": "code",
   "execution_count": null,
   "id": "12e535d1-74fa-44d8-91ea-836e1bbcf094",
   "metadata": {},
   "outputs": [],
   "source": [
    "train.head()"
   ]
  },
  {
   "cell_type": "code",
   "execution_count": null,
   "id": "a1082590-169d-41d9-ac5b-8a8e540281a9",
   "metadata": {},
   "outputs": [],
   "source": [
    "train.shape,test.shape"
   ]
  },
  {
   "cell_type": "code",
   "execution_count": null,
   "id": "c9c97444-acf0-4c73-8c5f-cb2ba74e5b8d",
   "metadata": {},
   "outputs": [],
   "source": [
    "test.head()"
   ]
  },
  {
   "cell_type": "code",
   "execution_count": null,
   "id": "c3930140-0622-443f-91a1-522428ba3426",
   "metadata": {},
   "outputs": [],
   "source": [
    "train = train.drop('Datetime',axis=1)\n",
    "test = test.drop('Datetime',axis=1)"
   ]
  },
  {
   "cell_type": "code",
   "execution_count": null,
   "id": "a557aabd-9b02-4670-903c-d8744a5c2cbf",
   "metadata": {},
   "outputs": [],
   "source": [
    "train.head()"
   ]
  },
  {
   "cell_type": "code",
   "execution_count": null,
   "id": "aed434ec-72b5-4331-87a4-e8adbb23f730",
   "metadata": {},
   "outputs": [],
   "source": [
    "X = train.drop('Offset_fault',axis=1)\n",
    "y = train['Offset_fault']\n",
    "\n",
    "X_test = test.copy"
   ]
  },
  {
   "cell_type": "markdown",
   "id": "f68a4d16-3460-49fd-8a7a-cc22c162e889",
   "metadata": {},
   "source": [
    "\n",
    "\n",
    "Here I am capturing NaN per row and making new feature\n"
   ]
  },
  {
   "cell_type": "code",
   "execution_count": null,
   "id": "671a9871-2f80-4d0e-ae4e-78701772d43e",
   "metadata": {},
   "outputs": [],
   "source": [
    "def feature_engineering(df):\n",
    "    df['NaN_row'] = df.isna().sum(axis=1)\n",
    "    df['std'] = df.std(axis=1)\n",
    "    return df\n",
    "\n",
    "X = feature_engineering(X)\n",
    "test = feature_engineering(test)"
   ]
  },
  {
   "cell_type": "markdown",
   "id": "104b8038-1a72-4b70-8120-25f9ad540a0d",
   "metadata": {},
   "source": [
    "# added code"
   ]
  },
  {
   "cell_type": "code",
   "execution_count": null,
   "id": "881bd9a3-f997-4a70-a352-0a3ff5320f33",
   "metadata": {},
   "outputs": [],
   "source": [
    "def feature_engineering(df):\n",
    "    df['AverageTemperature'] = df['Temperature'].mean(axis=0)\n",
    "    df['Relative_Humidity'] = df['Relative_Humidity'].mean(axis=0)\n",
    "    df['Total_sensor'] = df['Sensor1_PM2.5'] + df['Sensor2_PM2.5']\n",
    "    return df\n",
    "\n",
    "X = feature_engineering(X)\n",
    "test = feature_engineering(test)\n",
    "\n",
    "X.head()"
   ]
  },
  {
   "cell_type": "code",
   "execution_count": null,
   "id": "7ba214ce-b2e0-40cb-847e-69c4b957efcc",
   "metadata": {},
   "outputs": [],
   "source": []
  },
  {
   "cell_type": "code",
   "execution_count": null,
   "id": "5970be33-49aa-4dc1-9079-5b1a9df1d428",
   "metadata": {},
   "outputs": [],
   "source": [
    "pipeline = Pipeline([\n",
    "    ('impute', SimpleImputer(strategy='mean')),\n",
    "    ('scale', StandardScaler())\n",
    "])\n",
    "\n",
    "X = pd.DataFrame(columns=X.columns, data=pipeline.fit_transform(X))\n",
    "test = pd.DataFrame(columns=test.columns, data=pipeline.transform(test))"
   ]
  },
  {
   "cell_type": "code",
   "execution_count": null,
   "id": "7d95b192-c14d-4587-b697-0087343e6b5d",
   "metadata": {},
   "outputs": [],
   "source": [
    "X.head()"
   ]
  },
  {
   "cell_type": "code",
   "execution_count": null,
   "id": "53539cde-e36b-49cd-96ab-9c5035847213",
   "metadata": {},
   "outputs": [],
   "source": [
    "test.head()"
   ]
  },
  {
   "cell_type": "code",
   "execution_count": null,
   "id": "a33fb339-1233-49e8-ab8c-09da17def473",
   "metadata": {},
   "outputs": [],
   "source": [
    "X_train,X_test,y_train,y_test = train_test_split(X.values,y.values,random_state=42, test_size=0.01)"
   ]
  },
  {
   "cell_type": "code",
   "execution_count": null,
   "id": "c9ed061f-55ba-4813-b193-1cfccc25c94f",
   "metadata": {},
   "outputs": [],
   "source": [
    "X.shape"
   ]
  },
  {
   "cell_type": "code",
   "execution_count": null,
   "id": "f2244874-772a-4f11-9e5b-588b3a2ab9e2",
   "metadata": {},
   "outputs": [],
   "source": [
    "X_train = torch.Tensor(X_train)\n",
    "X_test = torch.Tensor(X_test)\n",
    "y_train = torch.Tensor(y_train)\n",
    "y_test = torch.Tensor(y_test)\n",
    "\n",
    "test = torch.Tensor(test.values)"
   ]
  },
  {
   "cell_type": "code",
   "execution_count": null,
   "id": "15ed0b79-b95f-43d6-a68b-d5274bcb93c4",
   "metadata": {},
   "outputs": [],
   "source": [
    "\n",
    "\n",
    "print(X_train.shape, y_train.shape)\n",
    "\n",
    "print(X_test.shape, y_test.shape)"
   ]
  },
  {
   "cell_type": "code",
   "execution_count": null,
   "id": "8028fa63-a143-40e7-978b-4d6aa5cdc21c",
   "metadata": {},
   "outputs": [],
   "source": [
    "\n",
    "\n",
    "n_samples, n_features = X_train.shape\n",
    "n_features"
   ]
  },
  {
   "cell_type": "code",
   "execution_count": null,
   "id": "8f1eb4e3-df3e-42b6-a25c-a8f59ff82cf0",
   "metadata": {},
   "outputs": [],
   "source": [
    "class Net(nn.Module):\n",
    "\n",
    "  def __init__(self, n_features):\n",
    "\n",
    "    super(Net, self).__init__()\n",
    "\n",
    "    self.fc1 = nn.Linear(n_features, 5)\n",
    "\n",
    "    self.fc2 = nn.Linear(5, 3)\n",
    "\n",
    "    self.fc3 = nn.Linear(3, 1)\n",
    "\n",
    "  def forward(self, x):\n",
    "\n",
    "    x = F.relu(self.fc1(x))\n",
    "\n",
    "    x = F.relu(self.fc2(x))\n",
    "\n",
    "    x = torch.sigmoid(self.fc3(x))\n",
    "    return x\n",
    "\n",
    "net = Net(X_train.shape[1])"
   ]
  },
  {
   "cell_type": "code",
   "execution_count": null,
   "id": "5f588132-e4a9-4904-a290-7a2906eeda24",
   "metadata": {},
   "outputs": [],
   "source": [
    "criterion = nn.BCELoss()\n",
    "\n",
    "\n",
    "optimizer = optim.Adam(net.parameters(), lr=0.001)\n",
    "\n",
    "def calculate_accuracy(y_true, y_pred):\n",
    "    predicted = y_pred.ge(.5).view(-1)\n",
    "\n",
    "    return (y_true == predicted).sum().float() / len(y_true)"
   ]
  },
  {
   "cell_type": "code",
   "execution_count": null,
   "id": "d5408616-1b87-478a-bd8a-021e91be65ea",
   "metadata": {},
   "outputs": [],
   "source": [
    "def round_tensor(t, decimal_places=3):\n",
    "\n",
    "  return round(t.item(), decimal_places)\n",
    "\n",
    "for epoch in range(1000):\n",
    "\n",
    "    y_pred = net(X_train)\n",
    "\n",
    "    y_pred = torch.squeeze(y_pred)\n",
    "\n",
    "    train_loss = criterion(y_pred, y_train)\n",
    "\n",
    "    if epoch % 100 == 0:\n",
    "\n",
    "      train_acc = calculate_accuracy(y_train, y_pred)\n",
    "\n",
    "      y_test_pred = net(X_test)\n",
    "\n",
    "      y_test_pred = torch.squeeze(y_test_pred)\n",
    "\n",
    "      test_loss = criterion(y_test_pred, y_test)\n",
    "\n",
    "      test_acc = calculate_accuracy(y_test, y_test_pred)\n",
    "\n",
    "      print(\n",
    "\n",
    "f'''epoch {epoch}\n",
    "\n",
    "Train set - loss: {round_tensor(train_loss)}, accuracy: {round_tensor(train_acc)}\n",
    "\n",
    "Test  set - loss: {round_tensor(test_loss)}, accuracy: {round_tensor(test_acc)}\n",
    "\n",
    "''')\n",
    "\n",
    "    optimizer.zero_grad()\n",
    "\n",
    "    train_loss.backward()\n",
    "\n",
    "    optimizer.step()"
   ]
  },
  {
   "cell_type": "code",
   "execution_count": null,
   "id": "fd865825-1378-4ad0-8b9f-df724c746806",
   "metadata": {},
   "outputs": [],
   "source": [
    "from sklearn.metrics import classification_report\n",
    "\n",
    "classes = ['0', '1']\n",
    "\n",
    "y_pred = net(X_test)\n",
    "\n",
    "y_pred = y_pred.ge(.5).view(-1).cpu()\n",
    "\n",
    "y_test = y_test.cpu()\n",
    "\n",
    "print(classification_report(y_test, y_pred, target_names=classes))"
   ]
  },
  {
   "cell_type": "code",
   "execution_count": null,
   "id": "64c389ca-0586-4b84-b6f9-591d5b948d2b",
   "metadata": {},
   "outputs": [],
   "source": [
    "y_pred = net(test)\n",
    "\n",
    "y_pred = y_pred.ge(.5).view(-1).cpu()"
   ]
  },
  {
   "cell_type": "code",
   "execution_count": null,
   "id": "72130a57-0560-48a8-9dad-072cc7778e2f",
   "metadata": {},
   "outputs": [],
   "source": [
    "y_pred.shape"
   ]
  },
  {
   "cell_type": "code",
   "execution_count": null,
   "id": "c7f1bd69-cef1-404a-8468-8f13821dbc10",
   "metadata": {},
   "outputs": [],
   "source": [
    "test.shape"
   ]
  },
  {
   "cell_type": "code",
   "execution_count": null,
   "id": "29f6c16c-e85d-4660-b515-b3a66a8340cc",
   "metadata": {},
   "outputs": [],
   "source": [
    "import numpy as np\n",
    "\n",
    "y_pred = y_pred.numpy()"
   ]
  },
  {
   "cell_type": "code",
   "execution_count": null,
   "id": "57bf66e8-3832-45d6-9be4-0280c3259f23",
   "metadata": {},
   "outputs": [],
   "source": [
    "y_pred = pd.DataFrame(y_pred)"
   ]
  },
  {
   "cell_type": "code",
   "execution_count": null,
   "id": "332276f0-8592-4687-a7c5-679f7c43bfec",
   "metadata": {},
   "outputs": [],
   "source": [
    "y_pred"
   ]
  },
  {
   "cell_type": "code",
   "execution_count": null,
   "id": "a5ae5d43-76ac-4c12-b3f9-add021a5c7e7",
   "metadata": {},
   "outputs": [],
   "source": [
    "pred = y_pred[0]"
   ]
  },
  {
   "cell_type": "code",
   "execution_count": null,
   "id": "69c84df1-13c5-4a70-b794-1428f5d1942e",
   "metadata": {},
   "outputs": [],
   "source": [
    "pred_l = pred.replace({'True':1, 'False':0})"
   ]
  },
  {
   "cell_type": "code",
   "execution_count": null,
   "id": "71fdbb88-0b19-43ec-af07-38cd3d5cea9c",
   "metadata": {},
   "outputs": [],
   "source": [
    "from sklearn.preprocessing import LabelEncoder"
   ]
  },
  {
   "cell_type": "code",
   "execution_count": null,
   "id": "849d8efb-2c17-4a59-8444-b47d2a228fc6",
   "metadata": {},
   "outputs": [],
   "source": [
    "encode = LabelEncoder()\n",
    "\n",
    "pred_lg = encode.fit_transform(y_pred[0])"
   ]
  },
  {
   "cell_type": "code",
   "execution_count": null,
   "id": "3eb59d56-362e-4453-8783-5bfe00478b57",
   "metadata": {},
   "outputs": [],
   "source": [
    "pred_lg"
   ]
  },
  {
   "cell_type": "code",
   "execution_count": null,
   "id": "a331d7c5-6cf8-4e00-9ff8-67bfb314c3d6",
   "metadata": {},
   "outputs": [],
   "source": [
    "sub = pd.DataFrame({'ID':ss.ID, 'Offset_fault':pred_l})\n",
    "sub.to_csv('pytorch.csv',index=False)"
   ]
  },
  {
   "cell_type": "code",
   "execution_count": null,
   "id": "80111ce6-80f1-45de-8f92-82e7876c469a",
   "metadata": {},
   "outputs": [],
   "source": [
    "sub = pd.read_csv('pytorch.csv')\n",
    "sub.head()"
   ]
  },
  {
   "cell_type": "code",
   "execution_count": null,
   "id": "37715123-3856-4699-93b8-5d2d19fa6c8d",
   "metadata": {},
   "outputs": [],
   "source": [
    "encode = pd."
   ]
  },
  {
   "cell_type": "code",
   "execution_count": null,
   "id": "e0af8941-7123-4444-b19e-2aa69f419ec8",
   "metadata": {},
   "outputs": [],
   "source": [
    "# model architecture\n",
    "class BinaryNetwork(nn.Module):\n",
    "    def __init__(self, input_size, output_size):\n",
    "        super().__init__()\n",
    "        self.l1 = nn.Linear(input_size, 64)\n",
    "        self.l2 = nn.Linear(64, 32)\n",
    "        self.l3 = nn.Linear(32, 16)\n",
    "        self.out = nn.Linear(16, output_size)\n",
    "        \n",
    "    def forward(self, x):\n",
    "        x = self.l1(x)\n",
    "        x = F.relu(x)\n",
    "        x = self.l2(x)\n",
    "        x = F.relu(x)\n",
    "        x = self.l3(x)\n",
    "        x = F.relu(x)\n",
    "        x = self.out(x)\n",
    "        return torch.sigmoid(x) # scaling values between 0 and 1"
   ]
  },
  {
   "cell_type": "code",
   "execution_count": null,
   "id": "26971fba-d99f-4513-95e4-948b0ad543d0",
   "metadata": {},
   "outputs": [],
   "source": [
    "input_size = X.shape[1] # number of features which is 13\n",
    "output_size = 1\n",
    "model = BinaryNetwork(input_size, output_size)\n",
    "loss_fn = nn.BCELoss() # Binary Cross Entropy\n",
    "optim = torch.optim.Adam(model.parameters(), lr=1e-3)\n",
    "model"
   ]
  },
  {
   "cell_type": "code",
   "execution_count": null,
   "id": "f3b3beb7-26ba-4dd2-922d-bea0cef6e4c7",
   "metadata": {},
   "outputs": [],
   "source": [
    "epochs = 500\n",
    "losses = []\n",
    "for i in range(epochs):\n",
    "    epoch_loss = 0\n",
    "    for feat, target in X_train:\n",
    "        optim.zero_grad()\n",
    "        out = model(feat)\n",
    "        loss = loss_fn(out, target.unsqueeze(1))\n",
    "        epoch_loss += loss.item()\n",
    "        loss.backward()\n",
    "        optim.step()\n",
    "    losses.append(epoch_loss)\n",
    "    # print loss every 10 \n",
    "    if i % 10 == 0:\n",
    "        print(f\"Epoch: {i}/{epochs}, Loss = {loss:.5f}\")"
   ]
  },
  {
   "cell_type": "code",
   "execution_count": null,
   "id": "cb03e656-656e-4b99-b516-493a1654ec92",
   "metadata": {},
   "outputs": [],
   "source": []
  }
 ],
 "metadata": {
  "kernelspec": {
   "display_name": "Python 3 (ipykernel)",
   "language": "python",
   "name": "python3"
  },
  "language_info": {
   "codemirror_mode": {
    "name": "ipython",
    "version": 3
   },
   "file_extension": ".py",
   "mimetype": "text/x-python",
   "name": "python",
   "nbconvert_exporter": "python",
   "pygments_lexer": "ipython3",
   "version": "3.9.5"
  }
 },
 "nbformat": 4,
 "nbformat_minor": 5
}
