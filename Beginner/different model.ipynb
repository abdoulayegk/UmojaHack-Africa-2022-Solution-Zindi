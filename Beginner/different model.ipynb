{
 "cells": [
  {
   "cell_type": "code",
   "execution_count": null,
   "id": "3f9d2e74-0bd0-4b3d-a00f-99f8ec6c75a5",
   "metadata": {},
   "outputs": [],
   "source": [
    "import random\n",
    "import warnings\n",
    "\n",
    "import numpy as np\n",
    "\n",
    "seed = 42\n",
    "np.random.seed(seed)\n",
    "random.seed(seed)\n",
    "import matplotlib.pyplot as plt\n",
    "import missingno as mn\n",
    "import pandas as pd\n",
    "import seaborn as sns\n",
    "from autoxgb import AutoXGB\n",
    "from catboost import CatBoostClassifier\n",
    "from lightgbm import LGBMClassifier\n",
    "from sklearn.ensemble import HistGradientBoostingClassifier, RandomForestClassifier\n",
    "from sklearn.impute import SimpleImputer\n",
    "from sklearn.metrics import accuracy_score\n",
    "from sklearn.model_selection import StratifiedKFold, train_test_split\n",
    "from sklearn.pipeline import Pipeline\n",
    "from sklearn.preprocessing import StandardScaler\n",
    "from xgboost import XGBClassifier\n",
    "\n",
    "warnings.filterwarnings('ignore')"
   ]
  },
  {
   "cell_type": "code",
   "execution_count": null,
   "id": "5fb2088c-97d0-4466-a7e9-8b71c27ddf6e",
   "metadata": {},
   "outputs": [],
   "source": [
    "train = pd.read_csv('train.csv')\n",
    "test = pd.read_csv('test.csv')\n",
    "ss = pd.read_csv('SampleSubmission.csv')"
   ]
  },
  {
   "cell_type": "code",
   "execution_count": null,
   "id": "f4c691b2-c86d-4e42-97ab-3b7b4acd3ff6",
   "metadata": {},
   "outputs": [],
   "source": [
    "train.head()"
   ]
  },
  {
   "cell_type": "code",
   "execution_count": null,
   "id": "a55554da-d3c9-4093-9111-52df375407b8",
   "metadata": {},
   "outputs": [],
   "source": [
    "test.head()"
   ]
  },
  {
   "cell_type": "code",
   "execution_count": null,
   "id": "f9ba592a-5cc9-451a-9ec8-5b355708f426",
   "metadata": {},
   "outputs": [],
   "source": [
    "ss.head()"
   ]
  },
  {
   "cell_type": "code",
   "execution_count": null,
   "id": "3cc0f377-beea-4ad2-8df4-eba6317c00b9",
   "metadata": {},
   "outputs": [],
   "source": [
    "train.info()"
   ]
  },
  {
   "cell_type": "code",
   "execution_count": null,
   "id": "42ea6cc8-3810-4c4b-955b-e188f0776b32",
   "metadata": {},
   "outputs": [],
   "source": [
    "test.info()"
   ]
  },
  {
   "cell_type": "code",
   "execution_count": null,
   "id": "ac09fd81-134c-4a21-a98e-819cee2adba9",
   "metadata": {},
   "outputs": [],
   "source": [
    "mn.matrix(train)"
   ]
  },
  {
   "cell_type": "code",
   "execution_count": null,
   "id": "3f4f158f-eec4-4690-9d1a-8a6d9748f68f",
   "metadata": {},
   "outputs": [],
   "source": [
    "mn.matrix(test)"
   ]
  },
  {
   "cell_type": "code",
   "execution_count": null,
   "id": "e2e2d358-f6cc-4381-81ec-c01f4bb530bb",
   "metadata": {},
   "outputs": [],
   "source": [
    "train = train.drop('ID',axis=1)\n",
    "test = test.drop('ID',axis=1)"
   ]
  },
  {
   "cell_type": "code",
   "execution_count": null,
   "id": "c42c2a9c-469d-49fe-ba73-b4c6fa4931e1",
   "metadata": {},
   "outputs": [],
   "source": [
    "train.loc[:, 'Sensor1_PM2.5':'Offset_fault'].describe().T.style.bar(subset=['mean'], color='#206ff2')\\\n",
    "                            .background_gradient(subset=['std'], cmap='Reds')\\\n",
    "                            .background_gradient(subset=['50%'], cmap='coolwarm')"
   ]
  },
  {
   "cell_type": "code",
   "execution_count": null,
   "id": "84a029d1-e567-466b-ae4c-16cb1ed1cefa",
   "metadata": {},
   "outputs": [],
   "source": [
    "### Now let's visualize \n",
    "sns.countplot(train.Offset_fault)"
   ]
  },
  {
   "cell_type": "code",
   "execution_count": null,
   "id": "836abe05-d395-42df-8a69-862858cc7e0e",
   "metadata": {},
   "outputs": [],
   "source": [
    "# Extract day, month year and hour from the Datetime column\n",
    "# day\n",
    "def converte_dates(df):\n",
    "    \n",
    "    df['Datetime'] = pd.to_datetime(df['Datetime'])\n",
    "    \n",
    "    #\n",
    "    df['Datetime_day'] = df.Datetime.dt.day\n",
    "\n",
    "    # month\n",
    "    df['Datetime_month'] = df.Datetime.dt.month\n",
    "\n",
    "    # year\n",
    "    df['Datetime_year'] = df.Datetime.dt.year\n",
    "\n",
    "    # hour\n",
    "    df['Datetime_hour'] = df.Datetime.dt.hour\n",
    "    \n",
    "    # minute\n",
    "    df['Datetime_minute'] = df.Datetime.dt.minute\n",
    "    \n",
    "    # day of week\n",
    "    df['Datetime_dayofweek'] = df.Datetime.dt.weekday\n",
    "    \n",
    "    return df\n",
    "\n",
    "\n",
    "train = converte_dates(train)\n",
    "test = converte_dates(test)"
   ]
  },
  {
   "cell_type": "code",
   "execution_count": null,
   "id": "12e535d1-74fa-44d8-91ea-836e1bbcf094",
   "metadata": {},
   "outputs": [],
   "source": [
    "train.head()"
   ]
  },
  {
   "cell_type": "code",
   "execution_count": null,
   "id": "a1082590-169d-41d9-ac5b-8a8e540281a9",
   "metadata": {},
   "outputs": [],
   "source": [
    "train.shape,test.shape"
   ]
  },
  {
   "cell_type": "code",
   "execution_count": null,
   "id": "c9c97444-acf0-4c73-8c5f-cb2ba74e5b8d",
   "metadata": {},
   "outputs": [],
   "source": [
    "test.head()"
   ]
  },
  {
   "cell_type": "code",
   "execution_count": null,
   "id": "c3930140-0622-443f-91a1-522428ba3426",
   "metadata": {},
   "outputs": [],
   "source": [
    "train = train.drop('Datetime',axis=1)\n",
    "test = test.drop('Datetime',axis=1)"
   ]
  },
  {
   "cell_type": "code",
   "execution_count": null,
   "id": "a557aabd-9b02-4670-903c-d8744a5c2cbf",
   "metadata": {},
   "outputs": [],
   "source": [
    "train.head()"
   ]
  },
  {
   "cell_type": "code",
   "execution_count": null,
   "id": "aed434ec-72b5-4331-87a4-e8adbb23f730",
   "metadata": {},
   "outputs": [],
   "source": [
    "X = train.drop('Offset_fault',axis=1)\n",
    "y = train['Offset_fault']"
   ]
  },
  {
   "cell_type": "code",
   "execution_count": null,
   "id": "5970be33-49aa-4dc1-9079-5b1a9df1d428",
   "metadata": {},
   "outputs": [],
   "source": [
    "pipeline = Pipeline([\n",
    "    ('impute', SimpleImputer(strategy='mean')),\n",
    "    ('scale', StandardScaler())\n",
    "])\n",
    "\n",
    "X = pd.DataFrame(columns=X.columns, data=pipeline.fit_transform(X))\n",
    "test = pd.DataFrame(columns=test.columns, data=pipeline.fit_transform(test))"
   ]
  },
  {
   "cell_type": "code",
   "execution_count": null,
   "id": "7d95b192-c14d-4587-b697-0087343e6b5d",
   "metadata": {},
   "outputs": [],
   "source": [
    "X.head()"
   ]
  },
  {
   "cell_type": "code",
   "execution_count": null,
   "id": "53539cde-e36b-49cd-96ab-9c5035847213",
   "metadata": {},
   "outputs": [],
   "source": [
    "test.head()"
   ]
  },
  {
   "cell_type": "code",
   "execution_count": null,
   "id": "a33fb339-1233-49e8-ab8c-09da17def473",
   "metadata": {},
   "outputs": [],
   "source": [
    "X_train,X_test,y_train,y_test = train_test_split(X,y,random_state=42, test_size=0.05,stratify=y)"
   ]
  },
  {
   "cell_type": "code",
   "execution_count": null,
   "id": "407a0aa2-8d11-4df4-87ae-6813789880d2",
   "metadata": {},
   "outputs": [],
   "source": [
    "# rf = RandomForestClassifier()\n",
    "# rf.fit(X_train,y_train)\n",
    "# pred = rf.predict(X_test)\n",
    "# accuracy_score(y_test, pred)"
   ]
  },
  {
   "cell_type": "code",
   "execution_count": null,
   "id": "7a2b5c5f-47d3-439e-812c-09981ef351be",
   "metadata": {},
   "outputs": [],
   "source": [
    "pred_rf = rf.predict(test)\n",
    "\n",
    "sub = pd.DataFrame({'ID':ss.ID,'Offset_fault':pred_rf})\n",
    "sub.to_csv('rfc.csv',index=False)"
   ]
  },
  {
   "cell_type": "code",
   "execution_count": null,
   "id": "ada106d3-da90-4127-88c4-4842070798e1",
   "metadata": {},
   "outputs": [],
   "source": [
    "cb = CatBoostClassifier(verbose=0)\n",
    "cb.fit(X_train,y_train)\n",
    "pred = cb.predict(X_test)\n",
    "\n",
    "accuracy_score(y_test, pred)"
   ]
  },
  {
   "cell_type": "code",
   "execution_count": null,
   "id": "be59b7f8-cbc7-489e-b598-1b9441e091d5",
   "metadata": {},
   "outputs": [],
   "source": [
    "pred_cb = cb.predict(test)\n",
    "\n",
    "sub = pd.DataFrame({'ID':ss.ID,'Offset_fault':pred_cb})\n",
    "sub.to_csv('cb.csv',index=False)"
   ]
  },
  {
   "cell_type": "code",
   "execution_count": null,
   "id": "66ae700e-08bd-481a-80a4-7df2a7d2c0f6",
   "metadata": {},
   "outputs": [],
   "source": [
    "xgb = XGBClassifier()\n",
    "xgb.fit(X_train,y_train)\n",
    "pred = xgb.predict(X_test)\n",
    "\n",
    "print(f\"Training Accuracy: {xgb.score(X_train, y_train):0.2f}\")\n",
    "print(f\"Test Accuracy: {xgb.score(X_test, y_test):0.2f}\")"
   ]
  },
  {
   "cell_type": "code",
   "execution_count": null,
   "id": "defe2504-dadf-484a-a3fe-115ffc88f6a2",
   "metadata": {},
   "outputs": [],
   "source": [
    "pred_xgb = xgb.predict(test)\n",
    "\n",
    "sub = pd.DataFrame({'ID':ss.ID,'Offset_fault':pred_xgb})\n",
    "sub.to_csv('xgbc.csv',index=False)"
   ]
  },
  {
   "cell_type": "code",
   "execution_count": null,
   "id": "99ce799c-211b-4b76-a98f-616dc5b18fff",
   "metadata": {},
   "outputs": [],
   "source": []
  }
 ],
 "metadata": {
  "kernelspec": {
   "display_name": "Python 3 (ipykernel)",
   "language": "python",
   "name": "python3"
  },
  "language_info": {
   "codemirror_mode": {
    "name": "ipython",
    "version": 3
   },
   "file_extension": ".py",
   "mimetype": "text/x-python",
   "name": "python",
   "nbconvert_exporter": "python",
   "pygments_lexer": "ipython3",
   "version": "3.9.5"
  }
 },
 "nbformat": 4,
 "nbformat_minor": 5
}
